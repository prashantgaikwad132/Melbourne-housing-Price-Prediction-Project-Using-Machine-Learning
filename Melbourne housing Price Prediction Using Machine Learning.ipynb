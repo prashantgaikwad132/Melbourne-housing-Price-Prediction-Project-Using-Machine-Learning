{
 "cells": [
  {
   "cell_type": "markdown",
   "metadata": {},
   "source": [
    "Melbourne housing price prediction Project"
   ]
  },
  {
   "cell_type": "code",
   "execution_count": 1,
   "metadata": {},
   "outputs": [
    {
     "data": {
      "text/html": [
       "<div>\n",
       "<style scoped>\n",
       "    .dataframe tbody tr th:only-of-type {\n",
       "        vertical-align: middle;\n",
       "    }\n",
       "\n",
       "    .dataframe tbody tr th {\n",
       "        vertical-align: top;\n",
       "    }\n",
       "\n",
       "    .dataframe thead th {\n",
       "        text-align: right;\n",
       "    }\n",
       "</style>\n",
       "<table border=\"1\" class=\"dataframe\">\n",
       "  <thead>\n",
       "    <tr style=\"text-align: right;\">\n",
       "      <th></th>\n",
       "      <th>Suburb</th>\n",
       "      <th>Address</th>\n",
       "      <th>Rooms</th>\n",
       "      <th>Type</th>\n",
       "      <th>Price</th>\n",
       "      <th>Method</th>\n",
       "      <th>SellerG</th>\n",
       "      <th>Date</th>\n",
       "      <th>Distance</th>\n",
       "      <th>Postcode</th>\n",
       "      <th>...</th>\n",
       "      <th>Bathroom</th>\n",
       "      <th>Car</th>\n",
       "      <th>Landsize</th>\n",
       "      <th>BuildingArea</th>\n",
       "      <th>YearBuilt</th>\n",
       "      <th>CouncilArea</th>\n",
       "      <th>Lattitude</th>\n",
       "      <th>Longtitude</th>\n",
       "      <th>Regionname</th>\n",
       "      <th>Propertycount</th>\n",
       "    </tr>\n",
       "  </thead>\n",
       "  <tbody>\n",
       "    <tr>\n",
       "      <th>0</th>\n",
       "      <td>Abbotsford</td>\n",
       "      <td>68 Studley St</td>\n",
       "      <td>2</td>\n",
       "      <td>h</td>\n",
       "      <td>NaN</td>\n",
       "      <td>SS</td>\n",
       "      <td>Jellis</td>\n",
       "      <td>3/09/2016</td>\n",
       "      <td>2.5</td>\n",
       "      <td>3067.0</td>\n",
       "      <td>...</td>\n",
       "      <td>1.0</td>\n",
       "      <td>1.0</td>\n",
       "      <td>126.0</td>\n",
       "      <td>NaN</td>\n",
       "      <td>NaN</td>\n",
       "      <td>Yarra City Council</td>\n",
       "      <td>-37.8014</td>\n",
       "      <td>144.9958</td>\n",
       "      <td>Northern Metropolitan</td>\n",
       "      <td>4019.0</td>\n",
       "    </tr>\n",
       "    <tr>\n",
       "      <th>1</th>\n",
       "      <td>Abbotsford</td>\n",
       "      <td>85 Turner St</td>\n",
       "      <td>2</td>\n",
       "      <td>h</td>\n",
       "      <td>1480000.0</td>\n",
       "      <td>S</td>\n",
       "      <td>Biggin</td>\n",
       "      <td>3/12/2016</td>\n",
       "      <td>2.5</td>\n",
       "      <td>3067.0</td>\n",
       "      <td>...</td>\n",
       "      <td>1.0</td>\n",
       "      <td>1.0</td>\n",
       "      <td>202.0</td>\n",
       "      <td>NaN</td>\n",
       "      <td>NaN</td>\n",
       "      <td>Yarra City Council</td>\n",
       "      <td>-37.7996</td>\n",
       "      <td>144.9984</td>\n",
       "      <td>Northern Metropolitan</td>\n",
       "      <td>4019.0</td>\n",
       "    </tr>\n",
       "    <tr>\n",
       "      <th>2</th>\n",
       "      <td>Abbotsford</td>\n",
       "      <td>25 Bloomburg St</td>\n",
       "      <td>2</td>\n",
       "      <td>h</td>\n",
       "      <td>1035000.0</td>\n",
       "      <td>S</td>\n",
       "      <td>Biggin</td>\n",
       "      <td>4/02/2016</td>\n",
       "      <td>2.5</td>\n",
       "      <td>3067.0</td>\n",
       "      <td>...</td>\n",
       "      <td>1.0</td>\n",
       "      <td>0.0</td>\n",
       "      <td>156.0</td>\n",
       "      <td>79.0</td>\n",
       "      <td>1900.0</td>\n",
       "      <td>Yarra City Council</td>\n",
       "      <td>-37.8079</td>\n",
       "      <td>144.9934</td>\n",
       "      <td>Northern Metropolitan</td>\n",
       "      <td>4019.0</td>\n",
       "    </tr>\n",
       "    <tr>\n",
       "      <th>3</th>\n",
       "      <td>Abbotsford</td>\n",
       "      <td>18/659 Victoria St</td>\n",
       "      <td>3</td>\n",
       "      <td>u</td>\n",
       "      <td>NaN</td>\n",
       "      <td>VB</td>\n",
       "      <td>Rounds</td>\n",
       "      <td>4/02/2016</td>\n",
       "      <td>2.5</td>\n",
       "      <td>3067.0</td>\n",
       "      <td>...</td>\n",
       "      <td>2.0</td>\n",
       "      <td>1.0</td>\n",
       "      <td>0.0</td>\n",
       "      <td>NaN</td>\n",
       "      <td>NaN</td>\n",
       "      <td>Yarra City Council</td>\n",
       "      <td>-37.8114</td>\n",
       "      <td>145.0116</td>\n",
       "      <td>Northern Metropolitan</td>\n",
       "      <td>4019.0</td>\n",
       "    </tr>\n",
       "    <tr>\n",
       "      <th>4</th>\n",
       "      <td>Abbotsford</td>\n",
       "      <td>5 Charles St</td>\n",
       "      <td>3</td>\n",
       "      <td>h</td>\n",
       "      <td>1465000.0</td>\n",
       "      <td>SP</td>\n",
       "      <td>Biggin</td>\n",
       "      <td>4/03/2017</td>\n",
       "      <td>2.5</td>\n",
       "      <td>3067.0</td>\n",
       "      <td>...</td>\n",
       "      <td>2.0</td>\n",
       "      <td>0.0</td>\n",
       "      <td>134.0</td>\n",
       "      <td>150.0</td>\n",
       "      <td>1900.0</td>\n",
       "      <td>Yarra City Council</td>\n",
       "      <td>-37.8093</td>\n",
       "      <td>144.9944</td>\n",
       "      <td>Northern Metropolitan</td>\n",
       "      <td>4019.0</td>\n",
       "    </tr>\n",
       "  </tbody>\n",
       "</table>\n",
       "<p>5 rows × 21 columns</p>\n",
       "</div>"
      ],
      "text/plain": [
       "       Suburb             Address  Rooms Type      Price Method SellerG  \\\n",
       "0  Abbotsford       68 Studley St      2    h        NaN     SS  Jellis   \n",
       "1  Abbotsford        85 Turner St      2    h  1480000.0      S  Biggin   \n",
       "2  Abbotsford     25 Bloomburg St      2    h  1035000.0      S  Biggin   \n",
       "3  Abbotsford  18/659 Victoria St      3    u        NaN     VB  Rounds   \n",
       "4  Abbotsford        5 Charles St      3    h  1465000.0     SP  Biggin   \n",
       "\n",
       "        Date  Distance  Postcode  ...  Bathroom  Car  Landsize  BuildingArea  \\\n",
       "0  3/09/2016       2.5    3067.0  ...       1.0  1.0     126.0           NaN   \n",
       "1  3/12/2016       2.5    3067.0  ...       1.0  1.0     202.0           NaN   \n",
       "2  4/02/2016       2.5    3067.0  ...       1.0  0.0     156.0          79.0   \n",
       "3  4/02/2016       2.5    3067.0  ...       2.0  1.0       0.0           NaN   \n",
       "4  4/03/2017       2.5    3067.0  ...       2.0  0.0     134.0         150.0   \n",
       "\n",
       "   YearBuilt         CouncilArea Lattitude  Longtitude             Regionname  \\\n",
       "0        NaN  Yarra City Council  -37.8014    144.9958  Northern Metropolitan   \n",
       "1        NaN  Yarra City Council  -37.7996    144.9984  Northern Metropolitan   \n",
       "2     1900.0  Yarra City Council  -37.8079    144.9934  Northern Metropolitan   \n",
       "3        NaN  Yarra City Council  -37.8114    145.0116  Northern Metropolitan   \n",
       "4     1900.0  Yarra City Council  -37.8093    144.9944  Northern Metropolitan   \n",
       "\n",
       "  Propertycount  \n",
       "0        4019.0  \n",
       "1        4019.0  \n",
       "2        4019.0  \n",
       "3        4019.0  \n",
       "4        4019.0  \n",
       "\n",
       "[5 rows x 21 columns]"
      ]
     },
     "execution_count": 1,
     "metadata": {},
     "output_type": "execute_result"
    }
   ],
   "source": [
    "import pandas as pd\n",
    "import numpy as np\n",
    "import seaborn as sns\n",
    "import matplotlib.pyplot as plt\n",
    "%matplotlib inline\n",
    "\n",
    "df = pd.read_csv('Melbourne_housing_FULL.csv')\n",
    "df.head()"
   ]
  },
  {
   "cell_type": "markdown",
   "metadata": {},
   "source": [
    "# Data Preprocessing"
   ]
  },
  {
   "cell_type": "code",
   "execution_count": 2,
   "metadata": {},
   "outputs": [
    {
     "name": "stdout",
     "output_type": "stream",
     "text": [
      "<class 'pandas.core.frame.DataFrame'>\n",
      "RangeIndex: 34857 entries, 0 to 34856\n",
      "Data columns (total 21 columns):\n",
      " #   Column         Non-Null Count  Dtype  \n",
      "---  ------         --------------  -----  \n",
      " 0   Suburb         34857 non-null  object \n",
      " 1   Address        34857 non-null  object \n",
      " 2   Rooms          34857 non-null  int64  \n",
      " 3   Type           34857 non-null  object \n",
      " 4   Price          27247 non-null  float64\n",
      " 5   Method         34857 non-null  object \n",
      " 6   SellerG        34857 non-null  object \n",
      " 7   Date           34857 non-null  object \n",
      " 8   Distance       34856 non-null  float64\n",
      " 9   Postcode       34856 non-null  float64\n",
      " 10  Bedroom2       26640 non-null  float64\n",
      " 11  Bathroom       26631 non-null  float64\n",
      " 12  Car            26129 non-null  float64\n",
      " 13  Landsize       23047 non-null  float64\n",
      " 14  BuildingArea   13742 non-null  float64\n",
      " 15  YearBuilt      15551 non-null  float64\n",
      " 16  CouncilArea    34854 non-null  object \n",
      " 17  Lattitude      26881 non-null  float64\n",
      " 18  Longtitude     26881 non-null  float64\n",
      " 19  Regionname     34854 non-null  object \n",
      " 20  Propertycount  34854 non-null  float64\n",
      "dtypes: float64(12), int64(1), object(8)\n",
      "memory usage: 5.6+ MB\n"
     ]
    }
   ],
   "source": [
    "df.info()"
   ]
  },
  {
   "cell_type": "code",
   "execution_count": 3,
   "metadata": {},
   "outputs": [
    {
     "data": {
      "text/plain": [
       "Suburb           False\n",
       "Address          False\n",
       "Rooms            False\n",
       "Type             False\n",
       "Price             True\n",
       "Method           False\n",
       "SellerG          False\n",
       "Date             False\n",
       "Distance          True\n",
       "Postcode          True\n",
       "Bedroom2          True\n",
       "Bathroom          True\n",
       "Car               True\n",
       "Landsize          True\n",
       "BuildingArea      True\n",
       "YearBuilt         True\n",
       "CouncilArea       True\n",
       "Lattitude         True\n",
       "Longtitude        True\n",
       "Regionname        True\n",
       "Propertycount     True\n",
       "dtype: bool"
      ]
     },
     "execution_count": 3,
     "metadata": {},
     "output_type": "execute_result"
    }
   ],
   "source": [
    "df.isnull().any()"
   ]
  },
  {
   "cell_type": "code",
   "execution_count": 4,
   "metadata": {},
   "outputs": [
    {
     "data": {
      "text/plain": [
       "Suburb               0\n",
       "Address              0\n",
       "Rooms                0\n",
       "Type                 0\n",
       "Price             7610\n",
       "Method               0\n",
       "SellerG              0\n",
       "Date                 0\n",
       "Distance             1\n",
       "Postcode             1\n",
       "Bedroom2          8217\n",
       "Bathroom          8226\n",
       "Car               8728\n",
       "Landsize         11810\n",
       "BuildingArea     21115\n",
       "YearBuilt        19306\n",
       "CouncilArea          3\n",
       "Lattitude         7976\n",
       "Longtitude        7976\n",
       "Regionname           3\n",
       "Propertycount        3\n",
       "dtype: int64"
      ]
     },
     "execution_count": 4,
     "metadata": {},
     "output_type": "execute_result"
    }
   ],
   "source": [
    "df.isnull().sum()"
   ]
  },
  {
   "cell_type": "code",
   "execution_count": 5,
   "metadata": {},
   "outputs": [
    {
     "name": "stdout",
     "output_type": "stream",
     "text": [
      "Suburb\n",
      "['Abbotsford' 'Airport West' 'Albert Park' 'Alphington' 'Altona'\n",
      " 'Altona North' 'Armadale' 'Ascot Vale' 'Ashburton' 'Ashwood'\n",
      " 'Avondale Heights' 'Balaclava' 'Balwyn' 'Balwyn North' 'Bentleigh'\n",
      " 'Bentleigh East' 'Box Hill' 'Braybrook' 'Brighton' 'Brighton East'\n",
      " 'Brunswick' 'Brunswick West' 'Bulleen' 'Burwood' 'Camberwell'\n",
      " 'Canterbury' 'Carlton North' 'Carnegie' 'Caulfield' 'Caulfield North'\n",
      " 'Caulfield South' 'Chadstone' 'Clifton Hill' 'Coburg' 'Coburg North'\n",
      " 'Collingwood' 'Doncaster' 'Eaglemont' 'Elsternwick' 'Elwood' 'Essendon'\n",
      " 'Essendon North' 'Fairfield' 'Fitzroy' 'Fitzroy North' 'Flemington'\n",
      " 'Footscray' 'Glen Iris' 'Glenroy' 'Gowanbrae' 'Hadfield' 'Hampton'\n",
      " 'Hampton East' 'Hawthorn' 'Heidelberg Heights' 'Heidelberg West'\n",
      " 'Hughesdale' 'Ivanhoe' 'Kealba' 'Keilor East' 'Kensington' 'Kew'\n",
      " 'Kew East' 'Kooyong' 'Maidstone' 'Malvern' 'Malvern East' 'Maribyrnong'\n",
      " 'Melbourne' 'Middle Park' 'Mont Albert' 'Moonee Ponds' 'Moorabbin'\n",
      " 'Newport' 'Niddrie' 'North Melbourne' 'Northcote' 'Oak Park'\n",
      " 'Oakleigh South' 'Parkville' 'Pascoe Vale' 'Port Melbourne' 'Prahran'\n",
      " 'Preston' 'Reservoir' 'Richmond' 'Rosanna' 'Seddon' 'South Melbourne'\n",
      " 'South Yarra' 'Southbank' 'Spotswood' 'St Kilda' 'Strathmore' 'Sunshine'\n",
      " 'Sunshine North' 'Sunshine West' 'Surrey Hills' 'Templestowe Lower'\n",
      " 'Thornbury' 'Toorak' 'Viewbank' 'Watsonia' 'West Melbourne'\n",
      " 'Williamstown' 'Williamstown North' 'Windsor' 'Yallambie' 'Yarraville'\n",
      " 'Aberfeldie' 'Bellfield' 'Brunswick East' 'Burnley' 'Campbellfield'\n",
      " 'Carlton' 'East Melbourne' 'Essendon West' 'Fawkner' 'Hawthorn East'\n",
      " 'Heidelberg' 'Ivanhoe East' 'Jacana' 'Kingsbury' 'Kingsville'\n",
      " 'Murrumbeena' 'Ormond' 'West Footscray' 'Albion' 'Brooklyn' 'Glen Huntly'\n",
      " 'Oakleigh' 'Ripponlea' 'Cremorne' 'Docklands' 'South Kingsville'\n",
      " 'Strathmore Heights' 'Travancore' 'Caulfield East' 'Seaholme'\n",
      " 'Keilor Park' 'Gardenvale' 'Princes Hill' 'Altona Meadows' 'Ardeer'\n",
      " 'Attwood' 'Bayswater' 'Bayswater North' 'Beaumaris' 'Berwick' 'Blackburn'\n",
      " 'Blackburn South' 'Boronia' 'Briar Hill' 'Broadmeadows' 'Bundoora'\n",
      " 'Burnside Heights' 'Burwood East' 'Cairnlea' 'Caroline Springs'\n",
      " 'Cheltenham' 'Clarinda' 'Clayton' 'Clyde North' 'Craigieburn'\n",
      " 'Cranbourne' 'Croydon' 'Croydon Hills' 'Croydon North' 'Dandenong'\n",
      " 'Dandenong North' 'Diamond Creek' 'Dingley Village' 'Doncaster East'\n",
      " 'Donvale' 'Doreen' 'Edithvale' 'Eltham' 'Eltham North' 'Emerald' 'Epping'\n",
      " 'Eumemmerring' 'Ferntree Gully' 'Forest Hill' 'Frankston'\n",
      " 'Frankston North' 'Frankston South' 'Gisborne' 'Gladstone Park'\n",
      " 'Glen Waverley' 'Greensborough' 'Greenvale' 'Hallam' 'Healesville'\n",
      " 'Heathmont' 'Highett' 'Hillside' 'Hoppers Crossing' 'Huntingdale'\n",
      " 'Keilor Downs' 'Keilor Lodge' 'Keysborough' 'Kings Park' 'Lalor'\n",
      " 'Lower Plenty' 'Lynbrook' 'MacLeod' 'Melton' 'Melton South' 'Melton West'\n",
      " 'Mentone' 'Mernda' 'Mickleham' 'Mill Park' 'Mitcham' 'Montmorency'\n",
      " 'Montrose' 'Mordialloc' 'Mount Waverley' 'Mulgrave' 'Narre Warren'\n",
      " 'Noble Park' 'Nunawading' 'Oakleigh East' 'Parkdale' 'Point Cook'\n",
      " 'Ringwood' 'Ringwood East' 'Rockbank' 'Rowville' 'Roxburgh Park'\n",
      " 'Sandringham' 'Seabrook' 'Seaford' 'Skye' 'South Morang' 'Springvale'\n",
      " 'Springvale South' 'St Albans' 'St Helena' 'Sunbury' 'Sydenham' 'Tarneit'\n",
      " 'Taylors Hill' 'Taylors Lakes' 'Tecoma' 'Templestowe' 'The Basin'\n",
      " 'Thomastown' 'Truganina' 'Tullamarine' 'Vermont' 'Vermont South'\n",
      " 'Wantirna' 'Wantirna South' 'Werribee' 'Werribee South' 'Westmeadows'\n",
      " 'Williams Landing' 'Wollert' 'Wyndham Vale' 'Aspendale' 'Black Rock'\n",
      " 'Blackburn North' 'Bonbeach' 'Carrum' 'Chelsea' 'Clayton South' 'Dallas'\n",
      " 'Delahey' 'Doveton' 'McKinnon' 'Mooroolbark' 'Pakenham' 'Ringwood North'\n",
      " 'Scoresby' 'Warrandyte' 'Watsonia North' 'Wattle Glen' 'Wheelers Hill'\n",
      " 'Albanvale' 'Aspendale Gardens' 'Belgrave' 'Carrum Downs'\n",
      " 'Cranbourne East' 'Cranbourne North' 'Deer Park' 'Heatherton' 'Kilsyth'\n",
      " 'Langwarrin' 'Notting Hill' 'Patterson Lakes' 'Riddells Creek'\n",
      " 'Beaconsfield Upper' 'Chelsea Heights' 'Chirnside Park' 'Coolaroo'\n",
      " 'Darley' 'Hampton Park' 'Keilor' 'Meadow Heights' 'Mount Evelyn'\n",
      " 'North Warrandyte' 'Sandhurst' 'Silvan' 'Wallan' 'Croydon South'\n",
      " 'Derrimut' 'Diggers Rest' 'Knoxfield' 'Upwey' 'Warranwood'\n",
      " 'Bacchus Marsh' 'Bullengarook' 'Deepdene' 'Hurstbridge' 'Kurunjang'\n",
      " 'Laverton' 'Lilydale' 'Wonga Park' 'Endeavour Hills' 'Officer' 'Olinda'\n",
      " 'Waterways' 'Beaconsfield' 'Yarra Glen' 'Brookfield' 'Lysterfield'\n",
      " 'Plenty' 'Whittlesea' 'Burnside' 'New Gisborne' 'Guys Hill' 'Plumpton'\n",
      " 'croydon' 'Monbulk' 'Avonsleigh' 'Wildwood' 'Gisborne South' 'Research'\n",
      " 'viewbank' 'Botanic Ridge' 'Bulla' 'Coldstream' 'Hopetoun Park'\n",
      " 'Cranbourne West' 'Eynesbury' 'Fawkner Lot' 'Ferny Creek' 'Wandin North'\n",
      " 'Kalkallo' 'Menzies Creek']\n",
      "\n",
      "Address\n",
      "['68 Studley St' '85 Turner St' '25 Bloomburg St' ... '147A Severn St'\n",
      " '12/37 Stephen St' '3 Tarrengower St']\n",
      "\n",
      "Rooms\n",
      "[ 2  3  4  1  5  6  7  8 10  9 12 16]\n",
      "\n",
      "Type\n",
      "['h' 'u' 't']\n",
      "\n",
      "Price\n",
      "[     nan 1480000. 1035000. ... 2685000. 1671000. 1605500.]\n",
      "\n",
      "Method\n",
      "['SS' 'S' 'VB' 'SP' 'PI' 'SN' 'W' 'PN' 'SA']\n",
      "\n",
      "SellerG\n",
      "['Jellis' 'Biggin' 'Rounds' 'Nelson' 'Collins' 'Dingle' 'Purplebricks'\n",
      " 'Greg' 'Philip' 'LITTLE' 'Kay' 'Beller' 'Marshall' 'hockingstuart' 'Brad'\n",
      " 'Maddison' 'Barry' 'Airport' 'Considine' 'Rendina' 'Ray' 'Propertyau'\n",
      " 'McDonald' 'Frank' 'Prof.' 'Harcourts' 'Thomson' 'Buxton' 'RT'\n",
      " \"Sotheby's\" 'Cayzer' 'Chisholm' 'McGrath' 'Brace' 'Miles' 'Holland'\n",
      " 'Love' 'Thomas' 'Barlow' 'Sweeney' 'Village' 'Jas' 'Williams' 'Gunn&Co'\n",
      " 'Burnham' 'Point' 'Compton' 'FN' 'Hunter' 'Raine&Horne' 'Noel' 'Hodges'\n",
      " 'Gary' 'Fletchers' 'Woodards' 'Raine' 'Alexkarbon' 'Walshe' 'Weda'\n",
      " 'Stockdale' 'Tim' 'Buxton/Marshall' 'AIME' 'Moonee' 'HAR' 'Edward' 'RW'\n",
      " 'North' 'MICM' 'Ascend' 'Christopher' 'Morrison' 'Bekdon' 'Mandy' 'R&H'\n",
      " 'Fletchers/One' 'Lindellas' 'Appleby' 'Assisi' 'One' 'Owen' 'Parkes'\n",
      " 'C21' 'Century' \"O'Brien\" 'Bayside' 'Anderson' 'Paul'\n",
      " 'hockingstuart/Buxton' 'Smart' 'First' 'Matthew' 'Melbourne' 'Nick'\n",
      " 'Allens' 'Bells' 'Nguyen' 'Trimson' 'Douglas' 'Batty' 'GL' 'YPA'\n",
      " \"Tiernan's\" 'J' 'Castran' 'Branon' 'Rodney' 'Joseph' 'Harrington'\n",
      " 'Galldon' 'Grantham' 'Chambers' 'Pagan' 'Peter' 'hockingstuart/Advantage'\n",
      " 'Ross' 'Rayner' 'Garvey' \"O'Donoghues\" 'Hamilton' 'Weast' 'Kelly'\n",
      " 'Property' \"Private/Tiernan's\" 'Australian' 'Bustin' \"Abercromby's\"\n",
      " 'Whiting' 'iTRAK' 'Del' 'Caine' 'Nicholson' 'JMRE' 'ASL' 'Changing' 'Re'\n",
      " 'RE' 'Walsh' 'Foxtons' 'Ham' 'Darren' 'Vic' 'Haughton' 'Scott' 'Pride'\n",
      " 'Morleys' 'Wilson' 'Buxton/Advantage' 'Professionals' 'Joe' 'Red'\n",
      " 'hockingstuart/Jellis' 'Craig' 'Naison' 'Sweeney/Advantage' 'Reach'\n",
      " 'Domain' 'Eview' 'Jason' \"D'Aprano\" 'Charlton' 'CASTRAN' 'Wood' 'William'\n",
      " 'Coventry' 'Buckingham' 'Nardella' 'Karen' 'LJ' 'Shape' 'Direct'\n",
      " 'Fletchers/Fletchers' 'Besser' 'Johnston' 'Avion' 'Redina' 'Clairmont'\n",
      " 'Lucas' 'Dixon' 'Xynergy' 'Elite' 'Buxton/Find' 'W.B.' 'Leased'\n",
      " 'Harcourts/Barry' 'Win' 'Collings' 'New' 'Parkinson' 'Geoff'\n",
      " 'hockingstuart/Barry' 'Blue' 'MSM' 'Steveway' 'hockingstuart/Village'\n",
      " 'VICPROP' 'Inner' 'Meadows' 'Allan' 'S&L' 'Crane' 'Calder' 'Metro'\n",
      " 'Homes' 'Zahn' 'Mason' 'Landfield' 'David' 'Luxe' 'Prowse' 'Ken'\n",
      " 'Rombotis' 'iOne' 'hockingstuart/Sweeney' 'Iconek' 'Luxton' 'Hooper'\n",
      " 'JRW' 'Oak' 'White' 'Jim' 'Weston' '@Realty' 'Reed' 'Oriental' 'Max'\n",
      " 'Steller' 'Rosin' 'Real' 'Jeffrey' 'Hall' 'Icon' 'buyMyplace' 'WHITEFOX'\n",
      " 'Christou' 'Marvelli' \"Grant's\" 'Hoskins' 'Gardiner' 'McLennan' 'Triwest'\n",
      " 'Reliance' 'PRDNationwide' 'Only' 'Leyton' 'iSell' 'Obrien' 'Maitland'\n",
      " 'Millership' 'L' 'Emerson' 'Follett' 'Ash' 'LLC' 'Ace' 'Flannagan'\n",
      " 'Carter' 'WeSell' 'M.J' 'iProperty' 'Hayeswinckle' 'Schroeder' 'iHomes'\n",
      " 'VICProp' 'REMAX' 'Space' 'Victory' 'Aumeca' 'Mindacom' 'Ryder'\n",
      " 'Sanctuary' 'Leeburn' 'Asset' 'Westside' 'Sell' 'Mitchell' 'Darras' 'U'\n",
      " 'Nicholas' 'Rexhepi' 'Keatings' 'Aquire' 'Conquest' 'Prime' 'Donovan'\n",
      " 'Community' 'Free' 'Veitch' 'John' 'Peake' 'Ristic' 'JY' 'Upper' 'Daniel'\n",
      " 'VicHomes' 'TRUE' 'McNaughton' 'Leading' 'Bullen' 'Better' 'Boutique'\n",
      " 'Royston' 'Langwell' 'Silver' 'Wyndham' 'Kaye' 'Nicholls' 'Bowman' 'Just'\n",
      " 'Home' 'Le' 'Cooper' 'Black' 'The' 'Open' 'Roger' 'McEwing' 'Sandhurst'\n",
      " 'Boran' 'hockingstuart/hockingstuart' 'Area' 'MJ' 'Eric' 'SN'\n",
      " 'Waterfront' 'P' 'PRD' 'Bombay' 'Quinta' 'T' 'Tanner' 'LJH' 'Munn'\n",
      " 'Knight' 'Justin' 'Blackbird' 'Sweeney/Burnham' 'H' 'Alex' 'Can'\n",
      " 'Pavilion' 'Benchmark' 'Gellibrand' 'hockingstuart/Harcourts' 'Charter'\n",
      " 'Surreal' 'Vicprop' 'A' 'Upside' 'OBrien' 'Meallin' 'Malvern' 'Mark'\n",
      " 'Bradly' 'For' 'Peninsula' 'Sutherland' 'Leaders' 'Spencer'\n",
      " 'McGrath/Langwell' 'Benlor' 'Burns' 'Sterling' 'K.R.Peters'\n",
      " 'Buxton/Buxton' 'CarlinSmith' 'Gold' 'Hill' 'People'\n",
      " 'hockingstuart/Biggin' 'Mega' 'Skad' 'Ruralco' 'Create' 'Janice' 'R'\n",
      " 'G&H' 'Commercial' 'PSP' 'hockingstuart/Cayzer' 'Unity' 'Sprint'\n",
      " 'McGrath/Buxton' 'hockingstuart/Marshall' 'McGrath/First' 'voglwalpole'\n",
      " 'Watermark' 'Methven']\n",
      "\n",
      "Date\n",
      "['3/09/2016' '3/12/2016' '4/02/2016' '4/03/2017' '4/06/2016' '6/08/2016'\n",
      " '7/05/2016' '7/11/2016' '8/10/2016' '10/12/2016' '12/11/2016'\n",
      " '13/08/2016' '14/05/2016' '15/10/2016' '16/04/2016' '16/07/2016'\n",
      " '17/09/2016' '18/03/2017' '18/06/2016' '19/11/2016' '22/05/2016'\n",
      " '22/08/2016' '23/04/2016' '24/09/2016' '25/02/2017' '26/07/2016'\n",
      " '27/11/2016' '28/05/2016' '30/07/2016' '10/09/2016' '11/02/2017'\n",
      " '27/06/2016' '28/08/2016' '12/06/2016' '11/03/2017' '28/01/2016'\n",
      " '6/05/2017' '8/04/2017' '13/05/2017' '29/04/2017' '20/05/2017'\n",
      " '22/04/2017' '1/07/2017' '3/06/2017' '17/06/2017' '24/06/2017'\n",
      " '27/05/2017' '8/07/2017' '12/08/2017' '15/07/2017' '22/07/2017'\n",
      " '29/07/2017' '3/09/2017' '9/09/2017' '16/09/2017' '19/08/2017'\n",
      " '23/09/2017' '26/08/2017' '7/10/2017' '14/10/2017' '21/10/2017'\n",
      " '28/10/2017' '30/09/2017' '4/11/2017' '11/11/2017' '18/11/2017'\n",
      " '25/11/2017' '6/01/2018' '9/12/2017' '3/02/2018' '10/02/2018'\n",
      " '20/01/2018' '27/01/2018' '3/03/2018' '10/03/2018' '17/02/2018'\n",
      " '17/03/2018' '24/02/2018']\n",
      "\n",
      "Distance\n",
      "[ 2.5 13.5  3.3  6.4 13.8 11.1  6.3  5.9 11.  12.2 10.5  6.6  9.7  9.2\n",
      " 13.  13.9 13.1 10.8 11.2 10.7  5.2 11.8 11.7  7.8  9.   3.2 11.4  8.9\n",
      "  8.1  9.3 13.6  3.4  1.6 10.3  8.5  7.7  8.   9.4  5.8  3.5  4.4 12.1\n",
      " 13.7 14.5  4.6  7.9 15.  12.8  4.2  5.6  7.5  6.2  7.4  8.7  2.8  4.1\n",
      "  6.9 14.6  8.4  2.3  5.5 11.5 14.7  2.6  9.9  3.8  4.5  8.8  2.1  1.2\n",
      "  6.1 12.6 13.3  6.5 14.9  1.9  5.1  7.   9.1  9.5  1.8  1.5  9.8 12.4\n",
      " 10.6  8.2 10.9 10.4 14.  12.5  5.3 12.7  3.7  3.   5.7 15.5  4.3 10.2\n",
      " 16.5 23.2 17.3 35.2 13.4 25.  16.1  4.  14.8 10.1 17.9 17.5 16.7  3.6\n",
      " 43.4  6.7 20.6 34.7 23.  24.7 21.8 22.2 14.3 25.9  1.3 27.  18.   7.2\n",
      " 36.9 19.6 28.8 24.8 15.4 38.  45.9 12.9  7.3 20.4 32.3 45.2 21.3 16.\n",
      " 18.4 12.3  5.4 25.2 16.3 33.8 31.7 29.8 20.  17.2 16.2 21.5 14.2 18.8\n",
      " 34.1 22.7 12.   2.4 19.9 23.8 23.5 15.2 35.4 20.5  2.7 20.8  5.  30.4\n",
      " 15.3  3.1 17.6 25.5 27.2  8.6 31.2  2.   1.4  0.  26.5 47.3  0.7 21.1\n",
      " 23.6  6.8 34.9 18.7 26.  41.  47.4 39.8 27.1 17.4 37.5 33.3 31.6 34.6\n",
      " 44.2 27.7 23.3 29.3 26.1 29.9 28.5 43.3 30.6 39.  31.4 20.1 35.5 48.1\n",
      " 16.6 22.9 33.   nan 29.5 32.6]\n",
      "\n",
      "Postcode\n",
      "[3067. 3042. 3206. 3078. 3018. 3025. 3143. 3032. 3147. 3034. 3183. 3103.\n",
      " 3104. 3204. 3165. 3128. 3019. 3186. 3187. 3056. 3055. 3105. 3125. 3124.\n",
      " 3126. 3054. 3163. 3162. 3161. 3148. 3068. 3058. 3066. 3108. 3084. 3185.\n",
      " 3184. 3040. 3041. 3065. 3031. 3011. 3146. 3046. 3043. 3188. 3122. 3081.\n",
      " 3166. 3079. 3021. 3033. 3101. 3102. 3144. 3012. 3145. 3000. 3127. 3039.\n",
      " 3189. 3015. 3051. 3070. 3167. 3052. 3044. 3207. 3181. 3072. 3073. 3121.\n",
      " 3205. 3141. 3006. 3182. 3020. 3107. 3071. 3142. 3087. 3003. 3016. 3085.\n",
      " 3013. 3057. 3061. 3053. 3002. 3060. 3123. 3047. 3083. 3008. 3028. 3022.\n",
      " 3049. 3153. 3193. 3806. 3130. 3155. 3088. 3023. 3151. 3192. 3169. 3168.\n",
      " 3978. 3064. 3977. 3136. 3175. 3089. 3172. 3109. 3111. 3754. 3196. 3095.\n",
      " 3782. 3076. 3177. 3156. 3131. 3199. 3200. 3437. 3150. 3059. 3803. 3777.\n",
      " 3135. 3190. 3037. 3029. 3038. 3173. 3075. 3093. 3975. 3337. 3338. 3194.\n",
      " 3082. 3132. 3094. 3765. 3195. 3149. 3170. 3805. 3174. 3030. 3134. 3335.\n",
      " 3178. 3191. 3198. 3752. 3171. 3429. 3160. 3106. 3154. 3074. 3133. 3152.\n",
      " 3027. 3750. 3024. 3197. 3138. 3810. 3179. 3113. 3096. 3201. 3202. 3137.\n",
      " 3910. 3431. 3808. 3116. 3048. 3340. 3976. 3036. 3796. 3795. 3756. 3427.\n",
      " 3180. 3158. 3099. 3140. 3115. 3802. 3809. 3788. 3807. 3775. 3090. 3757.\n",
      " 3438. 3793. 3428. 3770.   nan 3786. 3139. 3159.]\n",
      "\n",
      "Bedroom2\n",
      "[ 2.  3.  4.  6. nan  1.  5.  7.  0.  8.  9. 30. 20. 10. 16. 12.]\n",
      "\n",
      "Bathroom\n",
      "[ 1.  2. nan  3.  7.  4.  0.  5.  6. 12.  8.  9.]\n",
      "\n",
      "Car\n",
      "[ 1.  0.  2. nan  6.  5.  4.  3.  8.  7. 11. 26.  9. 10. 18. 12.]\n",
      "\n",
      "Landsize\n",
      "[ 126.  202.  156. ... 1098. 1109. 1163.]\n",
      "\n",
      "BuildingArea\n",
      "[         nan 7.900000e+01 1.500000e+02 1.420000e+02 2.200000e+02\n",
      " 2.100000e+02 8.200000e+01 1.470000e+02 1.070000e+02 7.500000e+01\n",
      " 8.000000e+01 1.900000e+02 9.400000e+01 9.700000e+01 1.290000e+02\n",
      " 1.100000e+02 1.050000e+02 7.300000e+01 1.350000e+02 1.670000e+02\n",
      " 2.700000e+01 6.000000e+01 8.500000e+01 1.740000e+02 5.000000e+01\n",
      " 1.280000e+02 1.800000e+01 1.240000e+02 9.100000e+01 8.100000e+01\n",
      " 2.250000e+02 1.450000e+02 1.140000e+02 8.400000e+01 1.340000e+02\n",
      " 1.160000e+02 8.600000e+01 1.270000e+02 1.860000e+02 9.000000e+01\n",
      " 1.330000e+02 1.300000e+02 1.130000e+02 1.000000e+02 3.090000e+02\n",
      " 1.920000e+02 1.260000e+02 1.010000e+02 1.020000e+02 7.600000e+01\n",
      " 1.460000e+02 1.980000e+02 1.800000e+02 1.250000e+02 1.590000e+02\n",
      " 1.220000e+02 8.800000e+01 1.810000e+02 1.170000e+02 9.800000e+01\n",
      " 8.300000e+01 2.540000e+02 1.230000e+02 1.190000e+02 1.310000e+02\n",
      " 3.400000e+01 2.070000e+02 6.800000e+01 6.500000e+01 1.850000e+02\n",
      " 5.400000e+01 2.630000e+02 2.030000e+02 1.650000e+02 1.400000e+02\n",
      " 1.120000e+02 2.710000e+02 6.100000e+01 2.720000e+02 2.110000e+02\n",
      " 2.420000e+02 2.680000e+02 1.200000e+02 9.300000e+01 2.200000e+01\n",
      " 5.700000e+01 1.520000e+02 1.760000e+02 1.410000e+02 7.700000e+01\n",
      " 8.700000e+01 1.360000e+02 5.800000e+01 3.000000e+00 1.080000e+02\n",
      " 2.510000e+02 1.180000e+02 1.690000e+02 1.960000e+02 1.090000e+02\n",
      " 4.600000e+01 6.030000e+02 1.700000e+02 1.570000e+02 1.600000e+02\n",
      " 1.580000e+02 7.000000e+01 1.680000e+02 1.400000e+01 2.920000e+02\n",
      " 3.800000e+01 2.080000e+02 2.040000e+02 1.430000e+02 9.600000e+01\n",
      " 2.220000e+02 1.820000e+02 1.110000e+02 1.210000e+02 1.630000e+02\n",
      " 5.160000e+02 2.320000e+02 5.300000e+01 1.060000e+02 6.700000e+01\n",
      " 7.400000e+01 1.490000e+02 3.330000e+02 2.850000e+02 1.550000e+02\n",
      " 6.200000e+01 2.700000e+02 4.350000e+02 9.200000e+01 1.480000e+02\n",
      " 1.770000e+02 1.390000e+02 1.950000e+02 2.860000e+02 1.040000e+02\n",
      " 1.320000e+02 4.110000e+02 4.020000e+02 1.150000e+02 6.900000e+01\n",
      " 1.720000e+02 1.440000e+02 1.660000e+02 1.750000e+02 7.100000e+01\n",
      " 2.730000e+02 3.990000e+02 3.150000e+02 1.780000e+02 6.180000e+02\n",
      " 2.280000e+02 3.980000e+02 4.440000e+02 3.900000e+02 2.060000e+02\n",
      " 1.970000e+02 1.990000e+02 2.660000e+02 2.740000e+02 2.400000e+02\n",
      " 2.780000e+02 1.640000e+02 2.010000e+02 3.020000e+02 7.920000e+02\n",
      " 2.150000e+02 1.510000e+02 2.550000e+02 3.170000e+02 2.350000e+02\n",
      " 3.110000e+02 2.430000e+02 1.030000e+02 5.000000e+02 2.810000e+02\n",
      " 3.950000e+02 1.530000e+02 4.900000e+01 5.900000e+01 5.100000e+01\n",
      " 2.180000e+02 4.200000e+02 2.260000e+02 4.100000e+02 4.490000e+02\n",
      " 3.560000e+02 3.490000e+02 2.500000e+02 3.260000e+02 7.200000e+01\n",
      " 2.520000e+02 2.000000e+02 3.080000e+02 2.410000e+02 4.650000e+02\n",
      " 3.360000e+02 5.020000e+02 2.640000e+02 2.530000e+02 3.500000e+02\n",
      " 3.220000e+02 3.140000e+02 3.930000e+02 2.910000e+02 2.760000e+02\n",
      " 1.930000e+02 2.600000e+02 3.230000e+02 1.540000e+02 2.750000e+02\n",
      " 4.770000e+02 1.370000e+02 2.050000e+02 2.140000e+02 5.200000e+02\n",
      " 2.330000e+02 3.300000e+02 3.650000e+02 4.450000e+02 3.550000e+02\n",
      " 2.470000e+02 1.880000e+02 3.600000e+02 5.290000e+02 2.440000e+02\n",
      " 2.960000e+02 7.200000e+02 5.180000e+02 5.000000e+00 5.420000e+02\n",
      " 2.390000e+02 2.120000e+02 1.940000e+02 1.380000e+02 3.530000e+02\n",
      " 4.750000e+02 2.450000e+02 2.840000e+02 3.610000e+02 7.660000e+02\n",
      " 9.500000e+01 1.910000e+02 7.800000e+01 2.800000e+02 2.310000e+02\n",
      " 1.560000e+02 2.570000e+02 2.560000e+02 3.370000e+02 2.800000e+01\n",
      " 2.650000e+02 5.380000e+02 9.900000e+01 2.190000e+02 1.044000e+03\n",
      " 1.620000e+02 2.380000e+02 2.160000e+02 4.320000e+02 2.580000e+02\n",
      " 2.090000e+02 3.000000e+02 1.710000e+02 3.410000e+02 3.400000e+02\n",
      " 2.830000e+02 2.020000e+02 2.620000e+02 3.640000e+02 4.120000e+02\n",
      " 2.210000e+02 3.010000e+02 4.230000e+02 4.000000e+01 4.190000e+02\n",
      " 2.290000e+02 3.050000e+02 2.000000e+00 3.190000e+02 2.460000e+02\n",
      " 1.610000e+02 3.040000e+02 3.420000e+02 4.040000e+02 3.700000e+02\n",
      " 2.130000e+02 1.830000e+02 3.210000e+02 1.870000e+02 5.940000e+02\n",
      " 3.940000e+02 2.490000e+02 2.890000e+02 3.460000e+02 6.600000e+01\n",
      " 4.000000e+00 2.880000e+02 2.870000e+02 4.500000e+01 8.900000e+01\n",
      " 5.500000e+01 1.041000e+03 1.000000e+00 4.200000e+01 3.700000e+01\n",
      " 6.400000e+01 4.300000e+01 1.840000e+02 6.791000e+03 3.720000e+02\n",
      " 7.190000e+02 3.670000e+02 3.800000e+02 1.890000e+02 3.480000e+02\n",
      " 5.600000e+01 4.670000e+02 3.340000e+02 3.070000e+02 3.112000e+03\n",
      " 4.070000e+02 2.820000e+02 4.530000e+02 3.630000e+02 2.970000e+02\n",
      " 1.730000e+02 4.270000e+02 4.800000e+01 3.300000e+01 3.200000e+02\n",
      " 2.370000e+02 2.230000e+02 5.440000e+02 3.130000e+02 6.300000e+01\n",
      " 4.400000e+01 2.770000e+02 2.170000e+02 4.600000e+02 2.300000e+02\n",
      " 4.700000e+01 1.300000e+01 5.200000e+01 4.810000e+02 4.290000e+02\n",
      " 2.610000e+02 3.060000e+02 3.250000e+02 2.980000e+02 3.270000e+02\n",
      " 3.710000e+02 2.900000e+02 2.360000e+02 4.780000e+02 1.561000e+03\n",
      " 3.620000e+02 2.670000e+02 3.780000e+02 2.240000e+02 3.440000e+02\n",
      " 2.270000e+02 4.540000e+02 7.000000e+02 3.558000e+03 4.400000e+02\n",
      " 2.000000e+01 3.500000e+01 2.590000e+02 3.510000e+02 3.000000e+01\n",
      " 2.480000e+02 2.600000e+01 3.380000e+02 1.143000e+03 6.070000e+02\n",
      " 4.610000e+02 3.540000e+02 2.950000e+02 4.010000e+02 4.240000e+02\n",
      " 6.720000e+02 2.690000e+02 1.900000e+01 4.130000e+02 3.240000e+02\n",
      " 6.130000e+02 3.030000e+02 3.160000e+02 3.740000e+02 4.100000e+01\n",
      " 2.340000e+02 3.730000e+02 1.700000e+01 1.790000e+02 4.140000e+02\n",
      " 1.200000e+01 4.260000e+02 4.000000e+02 3.580000e+02 1.022000e+03\n",
      " 2.930000e+02 4.180000e+02 3.100000e+02 3.920000e+02 3.390000e+02\n",
      " 2.500000e+01 3.900000e+01 3.290000e+02 1.600000e+01 0.000000e+00\n",
      " 3.850000e+02 3.310000e+02 1.000000e+01 5.010000e+02 4.500000e+02\n",
      " 5.060000e+02 5.280000e+02 5.580000e+02 5.250000e+02 5.570000e+02\n",
      " 3.600000e+01 3.120000e+02 3.470000e+02 6.500000e+02 6.730000e+02\n",
      " 1.500000e+01 4.340000e+02 3.350000e+02 3.450000e+02 3.770000e+02\n",
      " 2.940000e+02 3.320000e+02 7.000000e+00 3.750000e+02 2.790000e+02\n",
      " 5.930000e+02 3.870000e+02 3.570000e+02 4.050000e+02 3.180000e+02\n",
      " 8.080000e+02 5.080000e+02 6.430000e+02 7.230000e+01 2.313300e+02\n",
      " 6.623000e+01 3.760000e+02 1.015100e+02 1.953000e+02 6.811000e+01\n",
      " 1.126000e+02 1.968000e+02 1.734500e+02 1.793000e+02 1.343000e+02\n",
      " 4.643000e+02 7.677000e+01 1.062000e+02 1.129000e+02 1.137600e+02\n",
      " 1.531000e+02 3.200000e+01 8.520000e+01 7.290000e+01 9.950000e+01\n",
      " 1.074000e+02 1.426000e+02 5.300000e+02 7.750000e+01 8.230000e+01\n",
      " 9.290000e+01 2.557900e+02 1.863600e+02 4.900000e+02 1.472000e+02\n",
      " 8.074000e+01 2.259800e+02 9.000000e+00 1.036000e+02 6.370000e+01\n",
      " 1.108700e+02 1.625200e+02 9.384000e+01 1.244500e+02 3.010800e+02\n",
      " 1.138100e+02 1.067600e+02 2.106800e+02 1.313000e+02 3.950000e+01\n",
      " 1.052300e+02 1.013700e+02 1.421000e+02 1.232100e+02 1.407481e+02\n",
      " 8.650000e+01 3.060000e+01 2.255000e+02 4.095400e+02 3.647000e+03\n",
      " 1.566000e+02 1.565000e+02 2.276000e+02 1.903600e+02 1.046300e+02\n",
      " 4.430000e+02 1.671300e+02 1.485000e+02 2.701800e+02 5.330000e+01\n",
      " 9.850000e+01 1.579351e+02 3.280000e+02 5.450000e+01 2.132300e+02\n",
      " 9.430000e+01 4.645000e+03 2.100000e+01 9.588000e+01 3.292400e+02\n",
      " 1.057000e+02 4.540000e+01 6.950000e+01 2.213000e+02 1.216000e+02\n",
      " 1.132000e+02 1.867500e+02 5.400000e+02 9.870000e+01 1.278000e+02\n",
      " 2.686000e+02 1.064000e+02 5.600000e+02 1.680100e+02 3.061900e+02\n",
      " 5.157800e+02 1.961000e+02 7.890000e+02 1.312700e+02 1.678700e+02\n",
      " 1.839700e+02 2.715000e+02 1.995000e+02 2.900000e+01 4.460000e+02\n",
      " 7.545000e+01 1.655000e+02 6.290000e+02 1.446500e+02 2.635000e+02\n",
      " 4.310000e+02 5.850000e+02 1.216300e+02 7.360000e+02 3.716122e+02\n",
      " 1.997300e+02 1.185400e+02 4.123100e+02 2.982100e+02 1.095000e+02\n",
      " 8.874000e+01 1.226000e+02 3.690000e+02 1.695000e+02 4.220000e+01\n",
      " 4.890000e+02 1.355000e+02 2.667600e+02 2.724000e+02 1.000000e-02\n",
      " 2.298000e+02 1.778000e+02 1.394000e+02 1.017600e+02 6.650000e+02\n",
      " 6.340000e+02 1.950964e+02 4.700000e+02 1.305200e+02 5.470000e+02\n",
      " 1.110400e+02 6.340000e+01 2.714700e+02 9.250000e+01 1.159600e+02\n",
      " 1.218400e+02 1.228600e+02 1.142000e+02 2.665300e+02 7.854000e+01\n",
      " 8.535000e+01 3.520000e+02 3.910000e+02 1.218000e+02 8.260000e+01\n",
      " 1.364900e+02 1.256000e+02 1.255100e+02 6.800000e+02 1.579352e+02\n",
      " 1.268000e+02 1.006000e+02 4.440000e+01 1.986000e+02 1.515400e+02\n",
      " 1.809000e+02 8.268367e+02 5.720000e+02 3.660000e+02 6.250000e+02\n",
      " 9.450000e+01 1.166500e+02 1.100000e+01 1.346000e+02 1.838400e+02\n",
      " 1.267000e+02 1.578500e+02 1.554000e+02 1.164000e+02 1.828500e+02\n",
      " 1.297000e+02 1.484700e+02 1.143900e+02 5.530000e+02 5.310000e+02\n",
      " 1.829000e+02 1.847500e+02 1.937400e+02 6.850000e+01 1.099800e+02\n",
      " 1.222500e+02 1.059000e+02 1.017000e+02 1.069000e+02 9.382000e+01\n",
      " 1.326000e+02 1.543000e+02 1.787400e+02 8.830000e+01 8.070000e+01\n",
      " 8.925000e+01 1.816000e+02 2.990000e+02 1.044000e+02 1.805600e+02\n",
      " 1.235000e+02 1.454000e+02 1.609100e+02 2.007100e+02 2.857000e+02\n",
      " 1.008000e+02 8.179000e+01 9.340000e+02 7.030000e+02 1.299200e+02\n",
      " 4.366400e+02 4.370000e+01 1.136000e+02 6.632000e+01 3.564000e+01\n",
      " 6.160000e+01 3.885000e+02 3.890000e+02 3.970000e+02 4.250000e+02\n",
      " 4.950000e+02 4.150000e+02 3.810000e+02 6.770000e+02 4.390000e+02\n",
      " 8.570000e+02 2.300000e+01 5.030000e+02 5.120000e+02 6.640000e+02\n",
      " 5.750000e+02 8.590000e+02 6.530000e+02 9.990000e+02 4.451500e+04\n",
      " 3.960000e+02 9.240000e+02 6.380000e+02 3.680000e+02 4.300000e+02\n",
      " 5.110000e+02 4.370000e+02 4.720000e+02 4.870000e+02 3.100000e+01\n",
      " 4.640000e+02 7.370000e+02 7.840000e+02 4.740000e+02 4.480000e+02\n",
      " 4.080000e+02 6.970000e+02 4.660000e+02 7.390000e+02 3.790000e+02\n",
      " 6.140000e+02 4.210000e+02 5.240000e+02 4.580000e+02 5.340000e+02\n",
      " 5.320000e+02 8.020000e+02 5.130000e+02 4.910000e+02 8.360000e+02\n",
      " 3.860000e+02 2.002000e+03 4.280000e+02 6.600000e+02 4.630000e+02\n",
      " 7.820000e+02 5.640000e+02 5.840000e+02 9.580000e+02 6.220000e+02\n",
      " 6.020000e+02 4.960000e+02 7.260000e+02 4.470000e+02 4.160000e+02\n",
      " 6.400000e+02 7.350000e+02 4.060000e+02 5.210000e+02 6.178000e+03\n",
      " 6.540000e+02 7.270000e+02 4.170000e+02 4.380000e+02 6.860000e+02\n",
      " 6.490000e+02]\n",
      "\n",
      "YearBuilt\n",
      "[  nan 1900. 2014. 2006. 1910. 2009. 1860. 1890. 1925. 2005. 2010. 1880.\n",
      " 1985. 1970. 2013. 2012. 1920. 1950. 1998. 1930. 2016. 1965. 1960. 1980.\n",
      " 2011. 2015. 1975. 1993. 2003. 1995. 1996. 2000. 1990. 1915. 2004. 2008.\n",
      " 1916. 1962. 1955. 1988. 1953. 1997. 2007. 1967. 1964. 1889. 1888. 1934.\n",
      " 1966. 1935. 1969. 1940. 1938. 1887. 1904. 1972. 1978. 1939. 1945. 1927.\n",
      " 1948. 1947. 1968. 1958. 2017. 1999. 1992. 1961. 1928. 1977. 1919. 1976.\n",
      " 2001. 1926. 1981. 1986. 1943. 1974. 1956. 1936. 1957. 1987. 2002. 1952.\n",
      " 1994. 1949. 1905. 1912. 1924. 1885. 1923. 1918. 1991. 1942. 1973. 2018.\n",
      " 1982. 2106. 1971. 1963. 1931. 1897. 1906. 1883. 1989. 1983. 1937. 1903.\n",
      " 1913. 1830. 1895. 1908. 1917. 1902. 1854. 1850. 1898. 1941. 1951. 1946.\n",
      " 1984. 1901. 1921. 1929. 1959. 1979. 1892. 1933. 1911. 1886. 1876. 1907.\n",
      " 1881. 1870. 1932. 1875. 1863. 1893. 1856. 1877. 1894. 1857. 1914. 1868.\n",
      " 1884. 1872. 1954. 1922. 1896. 1800. 1909. 1196. 1891. 1862. 1871. 1899.\n",
      " 1820. 1869. 1855. 2019. 1879.]\n",
      "\n",
      "CouncilArea\n",
      "['Yarra City Council' 'Moonee Valley City Council'\n",
      " 'Port Phillip City Council' 'Darebin City Council'\n",
      " 'Hobsons Bay City Council' 'Stonnington City Council'\n",
      " 'Boroondara City Council' 'Monash City Council' 'Glen Eira City Council'\n",
      " 'Whitehorse City Council' 'Maribyrnong City Council'\n",
      " 'Bayside City Council' 'Moreland City Council' 'Manningham City Council'\n",
      " 'Melbourne City Council' 'Banyule City Council' 'Brimbank City Council'\n",
      " 'Kingston City Council' 'Hume City Council' 'Knox City Council'\n",
      " 'Maroondah City Council' 'Casey City Council' 'Melton City Council'\n",
      " 'Greater Dandenong City Council' 'Nillumbik Shire Council'\n",
      " 'Cardinia Shire Council' 'Whittlesea City Council'\n",
      " 'Frankston City Council' 'Macedon Ranges Shire Council'\n",
      " 'Yarra Ranges Shire Council' 'Wyndham City Council'\n",
      " 'Moorabool Shire Council' 'Mitchell Shire Council' nan]\n",
      "\n",
      "Lattitude\n",
      "[-37.8014  -37.7996  -37.8079  ... -37.61094 -37.81053 -37.81551]\n",
      "\n",
      "Longtitude\n",
      "[144.9958  144.9984  144.9934  ... 144.88516 144.88467 144.89351]\n",
      "\n",
      "Regionname\n",
      "['Northern Metropolitan' 'Western Metropolitan' 'Southern Metropolitan'\n",
      " 'Eastern Metropolitan' 'South-Eastern Metropolitan' 'Eastern Victoria'\n",
      " 'Northern Victoria' 'Western Victoria' nan]\n",
      "\n",
      "Propertycount\n",
      "[ 4019.  3464.  3280.  2211.  5301.  5132.  4836.  6567.  3052.  2894.\n",
      "  4502.  2952.  5682.  7809.  6795. 10969.  4605.  3589. 10579.  6938.\n",
      " 11918.  7082.  4480.  5678.  8920.  3265.  3106.  7822.  2379.  6923.\n",
      "  5051.  3582.  2954. 11204.  3445.  4553.  9028.  1651.  4898.  8989.\n",
      "  9264.  1308.  2970.  5825.  6244.  3593.  7570. 10412.  8870.  1071.\n",
      "  2606.  5454.  2356. 11308.  2947.  2674.  3145.  5549.  1202.  5629.\n",
      "  5263. 10331.  2671.   394.  3873.  4675.  8801.  4918. 17496.  2019.\n",
      "  2079.  6232.  2555.  5498.  2291.  6821. 11364.  2651.  3692.  2309.\n",
      "  7485.  8648.  7717. 14577. 21650. 14949.  3540.  2417.  5943. 14887.\n",
      "  8400.  1223. 13240.  3284.  3755.  4217.  6763.  5457.  5420.  7217.\n",
      "  2698.  2329.  2230.  6380.   802.  4380.  1369.  6543.  1543.   790.\n",
      "  5533.   438.  1889.  6786.  3040.   588.  5070.  6482.  2890.  1554.\n",
      "   851.  1414.  1808.  4442.  3578.  5058.  2185.   962.  2403.  3224.\n",
      "   821.  1123.  4707.   984.   389.  1052.   608.   852.  1119.   534.\n",
      "  1008.  7630.  1281.  1130.  5030.  3598.  5366. 17093.  5713.  4387.\n",
      "  9704.  1390.  4294. 10175.  1686.  4048.  7719.  9758.  2727.  5837.\n",
      "  2987. 15510.  7680. 11925.  1705.  2985. 10894.  8322.  4258.  3940.\n",
      " 10999.  4790.  7254.  2546.  6990.  2346.  2259. 10926.   845. 10788.\n",
      "  4385. 17055.  2500.  7566.  3376.  3285. 15321.  8524.  4864.  3728.\n",
      "  3307.  3794.  4794.  5556. 13830.   768.  3656.   570.  8459.  2878.\n",
      "  8279.  1624.  2322.  4168.  3600.  4718.  6065.  6162.  5812.  1158.\n",
      " 10529.  6871.  3891.  2493.  3650. 13366.  7113.  9376. 11806.  4973.\n",
      "  2547.  5087. 15542.  7785.  4407.   538. 11667.  5833.  4497.  1793.\n",
      "  8077.  2756.  7969.  7412.  4054. 14042.   915. 14092.  3640. 10160.\n",
      "  4242.  5336.   869.  6202.  1690.  7955.  5811.  3296.  4181.  4280.\n",
      "  5424. 16166.  2474.  1999.  2940.  5262.  2824.  2866.  2867.  2887.\n",
      "  1989.  3906.  4734.  2246.  2898.  3533.  2397.  8280. 17384.  3619.\n",
      "  2206.  2003.  1442.   642.  7392.  1899.  2243.  1588.  8060.  5462.\n",
      "  6464.  6388.  1048.  4654.  8743.   902.  3351.  1475.   973.  2076.\n",
      "  3789.  1124.  2992.  8256.  2339.  4704.  3532.  1058.  1721.   457.\n",
      "  3988.  1863.  2276.  1184.  2949.  2591.  1595.  2871.   249.   892.\n",
      "  1345.  3553.  2004.  6732.  1328.  8443.    nan  2768.   794.   709.\n",
      "  2332.  1160.  3122.  2126.   777.  2170.  1607.   849.   129.  1490.\n",
      "  1424.   335.    83.   290.   938.  1240.   271.   810.   242.  4939.\n",
      "   604.   121.   342.]\n",
      "\n"
     ]
    }
   ],
   "source": [
    "# for loop to see unique values\n",
    "for column in df.columns.values.tolist():\n",
    "    print(column)\n",
    "    print(df[column].unique())\n",
    "    print(\"\")"
   ]
  },
  {
   "cell_type": "code",
   "execution_count": 6,
   "metadata": {},
   "outputs": [
    {
     "data": {
      "text/plain": [
       "Suburb            object\n",
       "Address           object\n",
       "Rooms              int64\n",
       "Type              object\n",
       "Price            float64\n",
       "Method            object\n",
       "SellerG           object\n",
       "Date              object\n",
       "Distance         float64\n",
       "Postcode         float64\n",
       "Bedroom2         float64\n",
       "Bathroom         float64\n",
       "Car              float64\n",
       "Landsize         float64\n",
       "BuildingArea     float64\n",
       "YearBuilt        float64\n",
       "CouncilArea       object\n",
       "Lattitude        float64\n",
       "Longtitude       float64\n",
       "Regionname        object\n",
       "Propertycount    float64\n",
       "dtype: object"
      ]
     },
     "execution_count": 6,
     "metadata": {},
     "output_type": "execute_result"
    }
   ],
   "source": [
    "# Looking at data types\n",
    "df.dtypes"
   ]
  },
  {
   "cell_type": "markdown",
   "metadata": {},
   "source": [
    "# Data Cleaning"
   ]
  },
  {
   "cell_type": "code",
   "execution_count": 7,
   "metadata": {},
   "outputs": [
    {
     "data": {
      "text/html": [
       "<div>\n",
       "<style scoped>\n",
       "    .dataframe tbody tr th:only-of-type {\n",
       "        vertical-align: middle;\n",
       "    }\n",
       "\n",
       "    .dataframe tbody tr th {\n",
       "        vertical-align: top;\n",
       "    }\n",
       "\n",
       "    .dataframe thead th {\n",
       "        text-align: right;\n",
       "    }\n",
       "</style>\n",
       "<table border=\"1\" class=\"dataframe\">\n",
       "  <thead>\n",
       "    <tr style=\"text-align: right;\">\n",
       "      <th></th>\n",
       "      <th>Suburb</th>\n",
       "      <th>Address</th>\n",
       "      <th>Rooms</th>\n",
       "      <th>Type</th>\n",
       "      <th>Price</th>\n",
       "      <th>Method</th>\n",
       "      <th>SellerG</th>\n",
       "      <th>Date</th>\n",
       "      <th>Distance</th>\n",
       "      <th>Postcode</th>\n",
       "      <th>...</th>\n",
       "      <th>Bathroom</th>\n",
       "      <th>Car</th>\n",
       "      <th>Landsize</th>\n",
       "      <th>BuildingArea</th>\n",
       "      <th>YearBuilt</th>\n",
       "      <th>CouncilArea</th>\n",
       "      <th>Lattitude</th>\n",
       "      <th>Longtitude</th>\n",
       "      <th>Regionname</th>\n",
       "      <th>Propertycount</th>\n",
       "    </tr>\n",
       "  </thead>\n",
       "  <tbody>\n",
       "    <tr>\n",
       "      <th>0</th>\n",
       "      <td>Abbotsford</td>\n",
       "      <td>68 Studley St</td>\n",
       "      <td>2</td>\n",
       "      <td>h</td>\n",
       "      <td>NaN</td>\n",
       "      <td>SS</td>\n",
       "      <td>Jellis</td>\n",
       "      <td>3/09/2016</td>\n",
       "      <td>2.5</td>\n",
       "      <td>3067.0</td>\n",
       "      <td>...</td>\n",
       "      <td>1.0</td>\n",
       "      <td>1.0</td>\n",
       "      <td>126.0</td>\n",
       "      <td>NaN</td>\n",
       "      <td>NaN</td>\n",
       "      <td>Yarra City Council</td>\n",
       "      <td>-37.8014</td>\n",
       "      <td>144.9958</td>\n",
       "      <td>Northern Metropolitan</td>\n",
       "      <td>4019.0</td>\n",
       "    </tr>\n",
       "    <tr>\n",
       "      <th>1</th>\n",
       "      <td>Abbotsford</td>\n",
       "      <td>85 Turner St</td>\n",
       "      <td>2</td>\n",
       "      <td>h</td>\n",
       "      <td>1480000.0</td>\n",
       "      <td>S</td>\n",
       "      <td>Biggin</td>\n",
       "      <td>3/12/2016</td>\n",
       "      <td>2.5</td>\n",
       "      <td>3067.0</td>\n",
       "      <td>...</td>\n",
       "      <td>1.0</td>\n",
       "      <td>1.0</td>\n",
       "      <td>202.0</td>\n",
       "      <td>NaN</td>\n",
       "      <td>NaN</td>\n",
       "      <td>Yarra City Council</td>\n",
       "      <td>-37.7996</td>\n",
       "      <td>144.9984</td>\n",
       "      <td>Northern Metropolitan</td>\n",
       "      <td>4019.0</td>\n",
       "    </tr>\n",
       "    <tr>\n",
       "      <th>2</th>\n",
       "      <td>Abbotsford</td>\n",
       "      <td>25 Bloomburg St</td>\n",
       "      <td>2</td>\n",
       "      <td>h</td>\n",
       "      <td>1035000.0</td>\n",
       "      <td>S</td>\n",
       "      <td>Biggin</td>\n",
       "      <td>4/02/2016</td>\n",
       "      <td>2.5</td>\n",
       "      <td>3067.0</td>\n",
       "      <td>...</td>\n",
       "      <td>1.0</td>\n",
       "      <td>0.0</td>\n",
       "      <td>156.0</td>\n",
       "      <td>79.0</td>\n",
       "      <td>1900.0</td>\n",
       "      <td>Yarra City Council</td>\n",
       "      <td>-37.8079</td>\n",
       "      <td>144.9934</td>\n",
       "      <td>Northern Metropolitan</td>\n",
       "      <td>4019.0</td>\n",
       "    </tr>\n",
       "    <tr>\n",
       "      <th>3</th>\n",
       "      <td>Abbotsford</td>\n",
       "      <td>18/659 Victoria St</td>\n",
       "      <td>3</td>\n",
       "      <td>u</td>\n",
       "      <td>NaN</td>\n",
       "      <td>VB</td>\n",
       "      <td>Rounds</td>\n",
       "      <td>4/02/2016</td>\n",
       "      <td>2.5</td>\n",
       "      <td>3067.0</td>\n",
       "      <td>...</td>\n",
       "      <td>2.0</td>\n",
       "      <td>1.0</td>\n",
       "      <td>0.0</td>\n",
       "      <td>NaN</td>\n",
       "      <td>NaN</td>\n",
       "      <td>Yarra City Council</td>\n",
       "      <td>-37.8114</td>\n",
       "      <td>145.0116</td>\n",
       "      <td>Northern Metropolitan</td>\n",
       "      <td>4019.0</td>\n",
       "    </tr>\n",
       "    <tr>\n",
       "      <th>4</th>\n",
       "      <td>Abbotsford</td>\n",
       "      <td>5 Charles St</td>\n",
       "      <td>3</td>\n",
       "      <td>h</td>\n",
       "      <td>1465000.0</td>\n",
       "      <td>SP</td>\n",
       "      <td>Biggin</td>\n",
       "      <td>4/03/2017</td>\n",
       "      <td>2.5</td>\n",
       "      <td>3067.0</td>\n",
       "      <td>...</td>\n",
       "      <td>2.0</td>\n",
       "      <td>0.0</td>\n",
       "      <td>134.0</td>\n",
       "      <td>150.0</td>\n",
       "      <td>1900.0</td>\n",
       "      <td>Yarra City Council</td>\n",
       "      <td>-37.8093</td>\n",
       "      <td>144.9944</td>\n",
       "      <td>Northern Metropolitan</td>\n",
       "      <td>4019.0</td>\n",
       "    </tr>\n",
       "  </tbody>\n",
       "</table>\n",
       "<p>5 rows × 21 columns</p>\n",
       "</div>"
      ],
      "text/plain": [
       "       Suburb             Address  Rooms Type      Price Method SellerG  \\\n",
       "0  Abbotsford       68 Studley St      2    h        NaN     SS  Jellis   \n",
       "1  Abbotsford        85 Turner St      2    h  1480000.0      S  Biggin   \n",
       "2  Abbotsford     25 Bloomburg St      2    h  1035000.0      S  Biggin   \n",
       "3  Abbotsford  18/659 Victoria St      3    u        NaN     VB  Rounds   \n",
       "4  Abbotsford        5 Charles St      3    h  1465000.0     SP  Biggin   \n",
       "\n",
       "        Date  Distance  Postcode  ...  Bathroom  Car  Landsize  BuildingArea  \\\n",
       "0  3/09/2016       2.5    3067.0  ...       1.0  1.0     126.0           NaN   \n",
       "1  3/12/2016       2.5    3067.0  ...       1.0  1.0     202.0           NaN   \n",
       "2  4/02/2016       2.5    3067.0  ...       1.0  0.0     156.0          79.0   \n",
       "3  4/02/2016       2.5    3067.0  ...       2.0  1.0       0.0           NaN   \n",
       "4  4/03/2017       2.5    3067.0  ...       2.0  0.0     134.0         150.0   \n",
       "\n",
       "   YearBuilt         CouncilArea Lattitude  Longtitude             Regionname  \\\n",
       "0        NaN  Yarra City Council  -37.8014    144.9958  Northern Metropolitan   \n",
       "1        NaN  Yarra City Council  -37.7996    144.9984  Northern Metropolitan   \n",
       "2     1900.0  Yarra City Council  -37.8079    144.9934  Northern Metropolitan   \n",
       "3        NaN  Yarra City Council  -37.8114    145.0116  Northern Metropolitan   \n",
       "4     1900.0  Yarra City Council  -37.8093    144.9944  Northern Metropolitan   \n",
       "\n",
       "  Propertycount  \n",
       "0        4019.0  \n",
       "1        4019.0  \n",
       "2        4019.0  \n",
       "3        4019.0  \n",
       "4        4019.0  \n",
       "\n",
       "[5 rows x 21 columns]"
      ]
     },
     "execution_count": 7,
     "metadata": {},
     "output_type": "execute_result"
    }
   ],
   "source": [
    "df.loc[df.Bathroom.isnull(), 'Bathroom']  = df.groupby('Rooms')['Bathroom'].transform(lambda x: x.fillna(x.mean()))\n",
    "df.head()"
   ]
  },
  {
   "cell_type": "code",
   "execution_count": 8,
   "metadata": {},
   "outputs": [],
   "source": [
    "df.loc[df.Car.isnull(), 'Car']  = df.groupby('Type')['Car'].transform(lambda x: x.fillna(x.mean()))\n",
    "df.loc[df.Landsize.isnull(), 'Landsize']  = df.groupby('Type')['Landsize'].transform(lambda x: x.fillna(x.mean()))"
   ]
  },
  {
   "cell_type": "code",
   "execution_count": 9,
   "metadata": {},
   "outputs": [],
   "source": [
    "df=df[df.Regionname.notnull()]"
   ]
  },
  {
   "cell_type": "code",
   "execution_count": 10,
   "metadata": {},
   "outputs": [
    {
     "data": {
      "text/html": [
       "<div>\n",
       "<style scoped>\n",
       "    .dataframe tbody tr th:only-of-type {\n",
       "        vertical-align: middle;\n",
       "    }\n",
       "\n",
       "    .dataframe tbody tr th {\n",
       "        vertical-align: top;\n",
       "    }\n",
       "\n",
       "    .dataframe thead th {\n",
       "        text-align: right;\n",
       "    }\n",
       "</style>\n",
       "<table border=\"1\" class=\"dataframe\">\n",
       "  <thead>\n",
       "    <tr style=\"text-align: right;\">\n",
       "      <th></th>\n",
       "      <th>SellerG</th>\n",
       "    </tr>\n",
       "    <tr>\n",
       "      <th>Regionname</th>\n",
       "      <th></th>\n",
       "    </tr>\n",
       "  </thead>\n",
       "  <tbody>\n",
       "    <tr>\n",
       "      <th>Eastern Metropolitan</th>\n",
       "      <td>4377</td>\n",
       "    </tr>\n",
       "    <tr>\n",
       "      <th>Eastern Victoria</th>\n",
       "      <td>228</td>\n",
       "    </tr>\n",
       "    <tr>\n",
       "      <th>Northern Metropolitan</th>\n",
       "      <td>9557</td>\n",
       "    </tr>\n",
       "    <tr>\n",
       "      <th>Northern Victoria</th>\n",
       "      <td>203</td>\n",
       "    </tr>\n",
       "    <tr>\n",
       "      <th>South-Eastern Metropolitan</th>\n",
       "      <td>1739</td>\n",
       "    </tr>\n",
       "    <tr>\n",
       "      <th>Southern Metropolitan</th>\n",
       "      <td>11836</td>\n",
       "    </tr>\n",
       "    <tr>\n",
       "      <th>Western Metropolitan</th>\n",
       "      <td>6799</td>\n",
       "    </tr>\n",
       "    <tr>\n",
       "      <th>Western Victoria</th>\n",
       "      <td>115</td>\n",
       "    </tr>\n",
       "  </tbody>\n",
       "</table>\n",
       "</div>"
      ],
      "text/plain": [
       "                            SellerG\n",
       "Regionname                         \n",
       "Eastern Metropolitan           4377\n",
       "Eastern Victoria                228\n",
       "Northern Metropolitan          9557\n",
       "Northern Victoria               203\n",
       "South-Eastern Metropolitan     1739\n",
       "Southern Metropolitan         11836\n",
       "Western Metropolitan           6799\n",
       "Western Victoria                115"
      ]
     },
     "execution_count": 10,
     "metadata": {},
     "output_type": "execute_result"
    }
   ],
   "source": [
    "df.groupby('Regionname')[['SellerG']].count()"
   ]
  },
  {
   "cell_type": "code",
   "execution_count": 11,
   "metadata": {},
   "outputs": [
    {
     "data": {
      "text/html": [
       "<div>\n",
       "<style scoped>\n",
       "    .dataframe tbody tr th:only-of-type {\n",
       "        vertical-align: middle;\n",
       "    }\n",
       "\n",
       "    .dataframe tbody tr th {\n",
       "        vertical-align: top;\n",
       "    }\n",
       "\n",
       "    .dataframe thead th {\n",
       "        text-align: right;\n",
       "    }\n",
       "</style>\n",
       "<table border=\"1\" class=\"dataframe\">\n",
       "  <thead>\n",
       "    <tr style=\"text-align: right;\">\n",
       "      <th></th>\n",
       "      <th>Regionname</th>\n",
       "      <th>Car</th>\n",
       "    </tr>\n",
       "  </thead>\n",
       "  <tbody>\n",
       "    <tr>\n",
       "      <th>0</th>\n",
       "      <td>Eastern Metropolitan</td>\n",
       "      <td>7941.411499</td>\n",
       "    </tr>\n",
       "    <tr>\n",
       "      <th>1</th>\n",
       "      <td>Eastern Victoria</td>\n",
       "      <td>466.562269</td>\n",
       "    </tr>\n",
       "    <tr>\n",
       "      <th>2</th>\n",
       "      <td>Northern Metropolitan</td>\n",
       "      <td>14933.506910</td>\n",
       "    </tr>\n",
       "    <tr>\n",
       "      <th>3</th>\n",
       "      <td>Northern Victoria</td>\n",
       "      <td>439.018473</td>\n",
       "    </tr>\n",
       "    <tr>\n",
       "      <th>4</th>\n",
       "      <td>South-Eastern Metropolitan</td>\n",
       "      <td>3366.497001</td>\n",
       "    </tr>\n",
       "    <tr>\n",
       "      <th>5</th>\n",
       "      <td>Southern Metropolitan</td>\n",
       "      <td>19436.413692</td>\n",
       "    </tr>\n",
       "    <tr>\n",
       "      <th>6</th>\n",
       "      <td>Western Metropolitan</td>\n",
       "      <td>12001.513698</td>\n",
       "    </tr>\n",
       "    <tr>\n",
       "      <th>7</th>\n",
       "      <td>Western Victoria</td>\n",
       "      <td>235.548543</td>\n",
       "    </tr>\n",
       "  </tbody>\n",
       "</table>\n",
       "</div>"
      ],
      "text/plain": [
       "                   Regionname           Car\n",
       "0        Eastern Metropolitan   7941.411499\n",
       "1            Eastern Victoria    466.562269\n",
       "2       Northern Metropolitan  14933.506910\n",
       "3           Northern Victoria    439.018473\n",
       "4  South-Eastern Metropolitan   3366.497001\n",
       "5       Southern Metropolitan  19436.413692\n",
       "6        Western Metropolitan  12001.513698\n",
       "7            Western Victoria    235.548543"
      ]
     },
     "execution_count": 11,
     "metadata": {},
     "output_type": "execute_result"
    }
   ],
   "source": [
    "df.groupby('Regionname', as_index=False).agg({\"Car\": \"sum\"})"
   ]
  },
  {
   "cell_type": "code",
   "execution_count": 12,
   "metadata": {},
   "outputs": [
    {
     "data": {
      "text/html": [
       "<div>\n",
       "<style scoped>\n",
       "    .dataframe tbody tr th:only-of-type {\n",
       "        vertical-align: middle;\n",
       "    }\n",
       "\n",
       "    .dataframe tbody tr th {\n",
       "        vertical-align: top;\n",
       "    }\n",
       "\n",
       "    .dataframe thead th {\n",
       "        text-align: right;\n",
       "    }\n",
       "</style>\n",
       "<table border=\"1\" class=\"dataframe\">\n",
       "  <thead>\n",
       "    <tr style=\"text-align: right;\">\n",
       "      <th></th>\n",
       "      <th>Regionname</th>\n",
       "      <th>Car</th>\n",
       "      <th>SellerG</th>\n",
       "      <th>Rooms</th>\n",
       "    </tr>\n",
       "  </thead>\n",
       "  <tbody>\n",
       "    <tr>\n",
       "      <th>0</th>\n",
       "      <td>Eastern Metropolitan</td>\n",
       "      <td>7941.411499</td>\n",
       "      <td>4377</td>\n",
       "      <td>14868</td>\n",
       "    </tr>\n",
       "    <tr>\n",
       "      <th>1</th>\n",
       "      <td>Eastern Victoria</td>\n",
       "      <td>466.562269</td>\n",
       "      <td>228</td>\n",
       "      <td>807</td>\n",
       "    </tr>\n",
       "    <tr>\n",
       "      <th>2</th>\n",
       "      <td>Northern Metropolitan</td>\n",
       "      <td>14933.506910</td>\n",
       "      <td>9557</td>\n",
       "      <td>26977</td>\n",
       "    </tr>\n",
       "    <tr>\n",
       "      <th>3</th>\n",
       "      <td>Northern Victoria</td>\n",
       "      <td>439.018473</td>\n",
       "      <td>203</td>\n",
       "      <td>713</td>\n",
       "    </tr>\n",
       "    <tr>\n",
       "      <th>4</th>\n",
       "      <td>South-Eastern Metropolitan</td>\n",
       "      <td>3366.497001</td>\n",
       "      <td>1739</td>\n",
       "      <td>5712</td>\n",
       "    </tr>\n",
       "    <tr>\n",
       "      <th>5</th>\n",
       "      <td>Southern Metropolitan</td>\n",
       "      <td>19436.413692</td>\n",
       "      <td>11836</td>\n",
       "      <td>35200</td>\n",
       "    </tr>\n",
       "    <tr>\n",
       "      <th>6</th>\n",
       "      <td>Western Metropolitan</td>\n",
       "      <td>12001.513698</td>\n",
       "      <td>6799</td>\n",
       "      <td>20989</td>\n",
       "    </tr>\n",
       "    <tr>\n",
       "      <th>7</th>\n",
       "      <td>Western Victoria</td>\n",
       "      <td>235.548543</td>\n",
       "      <td>115</td>\n",
       "      <td>379</td>\n",
       "    </tr>\n",
       "  </tbody>\n",
       "</table>\n",
       "</div>"
      ],
      "text/plain": [
       "                   Regionname           Car  SellerG  Rooms\n",
       "0        Eastern Metropolitan   7941.411499     4377  14868\n",
       "1            Eastern Victoria    466.562269      228    807\n",
       "2       Northern Metropolitan  14933.506910     9557  26977\n",
       "3           Northern Victoria    439.018473      203    713\n",
       "4  South-Eastern Metropolitan   3366.497001     1739   5712\n",
       "5       Southern Metropolitan  19436.413692    11836  35200\n",
       "6        Western Metropolitan  12001.513698     6799  20989\n",
       "7            Western Victoria    235.548543      115    379"
      ]
     },
     "execution_count": 12,
     "metadata": {},
     "output_type": "execute_result"
    }
   ],
   "source": [
    "df.groupby('Regionname', as_index=False).agg({\"Car\": \"sum\",'SellerG': \"count\",'Rooms':sum})"
   ]
  },
  {
   "cell_type": "code",
   "execution_count": 13,
   "metadata": {},
   "outputs": [
    {
     "data": {
      "text/html": [
       "<div>\n",
       "<style scoped>\n",
       "    .dataframe tbody tr th:only-of-type {\n",
       "        vertical-align: middle;\n",
       "    }\n",
       "\n",
       "    .dataframe tbody tr th {\n",
       "        vertical-align: top;\n",
       "    }\n",
       "\n",
       "    .dataframe thead th {\n",
       "        text-align: right;\n",
       "    }\n",
       "</style>\n",
       "<table border=\"1\" class=\"dataframe\">\n",
       "  <thead>\n",
       "    <tr style=\"text-align: right;\">\n",
       "      <th></th>\n",
       "      <th>Rooms</th>\n",
       "      <th>SellerG</th>\n",
       "    </tr>\n",
       "    <tr>\n",
       "      <th>Regionname</th>\n",
       "      <th></th>\n",
       "      <th></th>\n",
       "    </tr>\n",
       "  </thead>\n",
       "  <tbody>\n",
       "    <tr>\n",
       "      <th>Eastern Metropolitan</th>\n",
       "      <td>14868</td>\n",
       "      <td>4377</td>\n",
       "    </tr>\n",
       "    <tr>\n",
       "      <th>Eastern Victoria</th>\n",
       "      <td>807</td>\n",
       "      <td>228</td>\n",
       "    </tr>\n",
       "    <tr>\n",
       "      <th>Northern Metropolitan</th>\n",
       "      <td>26977</td>\n",
       "      <td>9557</td>\n",
       "    </tr>\n",
       "    <tr>\n",
       "      <th>Northern Victoria</th>\n",
       "      <td>713</td>\n",
       "      <td>203</td>\n",
       "    </tr>\n",
       "    <tr>\n",
       "      <th>South-Eastern Metropolitan</th>\n",
       "      <td>5712</td>\n",
       "      <td>1739</td>\n",
       "    </tr>\n",
       "    <tr>\n",
       "      <th>Southern Metropolitan</th>\n",
       "      <td>35200</td>\n",
       "      <td>11836</td>\n",
       "    </tr>\n",
       "    <tr>\n",
       "      <th>Western Metropolitan</th>\n",
       "      <td>20989</td>\n",
       "      <td>6799</td>\n",
       "    </tr>\n",
       "    <tr>\n",
       "      <th>Western Victoria</th>\n",
       "      <td>379</td>\n",
       "      <td>115</td>\n",
       "    </tr>\n",
       "  </tbody>\n",
       "</table>\n",
       "</div>"
      ],
      "text/plain": [
       "                            Rooms  SellerG\n",
       "Regionname                                \n",
       "Eastern Metropolitan        14868     4377\n",
       "Eastern Victoria              807      228\n",
       "Northern Metropolitan       26977     9557\n",
       "Northern Victoria             713      203\n",
       "South-Eastern Metropolitan   5712     1739\n",
       "Southern Metropolitan       35200    11836\n",
       "Western Metropolitan        20989     6799\n",
       "Western Victoria              379      115"
      ]
     },
     "execution_count": 13,
     "metadata": {},
     "output_type": "execute_result"
    }
   ],
   "source": [
    "df.groupby(['Regionname']).agg({'Rooms':sum, 'SellerG': \"count\" })"
   ]
  },
  {
   "cell_type": "code",
   "execution_count": 14,
   "metadata": {},
   "outputs": [],
   "source": [
    "df=df[df.Bathroom.notnull()]\n",
    "df['Bathroom'] = df['Bathroom'].apply(lambda x: round(x))\n",
    "df['Car'] = df['Car'].apply(lambda x: round(x))"
   ]
  },
  {
   "cell_type": "code",
   "execution_count": 15,
   "metadata": {},
   "outputs": [
    {
     "data": {
      "text/plain": [
       "Suburb               0\n",
       "Address              0\n",
       "Rooms                0\n",
       "Type                 0\n",
       "Price                0\n",
       "Method               0\n",
       "SellerG              0\n",
       "Date                 0\n",
       "Distance             0\n",
       "Postcode             0\n",
       "Bedroom2          6438\n",
       "Bathroom             0\n",
       "Car                  0\n",
       "Landsize             0\n",
       "BuildingArea     16588\n",
       "YearBuilt        15160\n",
       "CouncilArea          0\n",
       "Lattitude         6251\n",
       "Longtitude        6251\n",
       "Regionname           0\n",
       "Propertycount        0\n",
       "dtype: int64"
      ]
     },
     "execution_count": 15,
     "metadata": {},
     "output_type": "execute_result"
    }
   ],
   "source": [
    "df=df[df.Price.notnull()]\n",
    "df.isnull().sum()"
   ]
  },
  {
   "cell_type": "code",
   "execution_count": 16,
   "metadata": {},
   "outputs": [],
   "source": [
    "df['Date'] = pd.to_datetime(df['Date'])\n",
    "column = df['Date']\n",
    "fearure_col = pd.DataFrame({\"month\":column.dt.month})\n",
    "df =  pd.concat([df,fearure_col], axis = 1)"
   ]
  },
  {
   "cell_type": "code",
   "execution_count": 17,
   "metadata": {},
   "outputs": [
    {
     "data": {
      "text/html": [
       "<div>\n",
       "<style scoped>\n",
       "    .dataframe tbody tr th:only-of-type {\n",
       "        vertical-align: middle;\n",
       "    }\n",
       "\n",
       "    .dataframe tbody tr th {\n",
       "        vertical-align: top;\n",
       "    }\n",
       "\n",
       "    .dataframe thead th {\n",
       "        text-align: right;\n",
       "    }\n",
       "</style>\n",
       "<table border=\"1\" class=\"dataframe\">\n",
       "  <thead>\n",
       "    <tr style=\"text-align: right;\">\n",
       "      <th></th>\n",
       "      <th>Suburb</th>\n",
       "      <th>Address</th>\n",
       "      <th>Rooms</th>\n",
       "      <th>Type</th>\n",
       "      <th>Price</th>\n",
       "      <th>Method</th>\n",
       "      <th>SellerG</th>\n",
       "      <th>Date</th>\n",
       "      <th>Distance</th>\n",
       "      <th>Postcode</th>\n",
       "      <th>...</th>\n",
       "      <th>Car</th>\n",
       "      <th>Landsize</th>\n",
       "      <th>BuildingArea</th>\n",
       "      <th>YearBuilt</th>\n",
       "      <th>CouncilArea</th>\n",
       "      <th>Lattitude</th>\n",
       "      <th>Longtitude</th>\n",
       "      <th>Regionname</th>\n",
       "      <th>Propertycount</th>\n",
       "      <th>month</th>\n",
       "    </tr>\n",
       "  </thead>\n",
       "  <tbody>\n",
       "    <tr>\n",
       "      <th>1</th>\n",
       "      <td>Abbotsford</td>\n",
       "      <td>85 Turner St</td>\n",
       "      <td>2</td>\n",
       "      <td>h</td>\n",
       "      <td>1480000.0</td>\n",
       "      <td>S</td>\n",
       "      <td>Biggin</td>\n",
       "      <td>2016-03-12</td>\n",
       "      <td>2.5</td>\n",
       "      <td>3067.0</td>\n",
       "      <td>...</td>\n",
       "      <td>1</td>\n",
       "      <td>202.0</td>\n",
       "      <td>NaN</td>\n",
       "      <td>NaN</td>\n",
       "      <td>Yarra City Council</td>\n",
       "      <td>-37.7996</td>\n",
       "      <td>144.9984</td>\n",
       "      <td>Northern Metropolitan</td>\n",
       "      <td>4019.0</td>\n",
       "      <td>3</td>\n",
       "    </tr>\n",
       "    <tr>\n",
       "      <th>2</th>\n",
       "      <td>Abbotsford</td>\n",
       "      <td>25 Bloomburg St</td>\n",
       "      <td>2</td>\n",
       "      <td>h</td>\n",
       "      <td>1035000.0</td>\n",
       "      <td>S</td>\n",
       "      <td>Biggin</td>\n",
       "      <td>2016-04-02</td>\n",
       "      <td>2.5</td>\n",
       "      <td>3067.0</td>\n",
       "      <td>...</td>\n",
       "      <td>0</td>\n",
       "      <td>156.0</td>\n",
       "      <td>79.0</td>\n",
       "      <td>1900.0</td>\n",
       "      <td>Yarra City Council</td>\n",
       "      <td>-37.8079</td>\n",
       "      <td>144.9934</td>\n",
       "      <td>Northern Metropolitan</td>\n",
       "      <td>4019.0</td>\n",
       "      <td>4</td>\n",
       "    </tr>\n",
       "    <tr>\n",
       "      <th>4</th>\n",
       "      <td>Abbotsford</td>\n",
       "      <td>5 Charles St</td>\n",
       "      <td>3</td>\n",
       "      <td>h</td>\n",
       "      <td>1465000.0</td>\n",
       "      <td>SP</td>\n",
       "      <td>Biggin</td>\n",
       "      <td>2017-04-03</td>\n",
       "      <td>2.5</td>\n",
       "      <td>3067.0</td>\n",
       "      <td>...</td>\n",
       "      <td>0</td>\n",
       "      <td>134.0</td>\n",
       "      <td>150.0</td>\n",
       "      <td>1900.0</td>\n",
       "      <td>Yarra City Council</td>\n",
       "      <td>-37.8093</td>\n",
       "      <td>144.9944</td>\n",
       "      <td>Northern Metropolitan</td>\n",
       "      <td>4019.0</td>\n",
       "      <td>4</td>\n",
       "    </tr>\n",
       "    <tr>\n",
       "      <th>5</th>\n",
       "      <td>Abbotsford</td>\n",
       "      <td>40 Federation La</td>\n",
       "      <td>3</td>\n",
       "      <td>h</td>\n",
       "      <td>850000.0</td>\n",
       "      <td>PI</td>\n",
       "      <td>Biggin</td>\n",
       "      <td>2017-04-03</td>\n",
       "      <td>2.5</td>\n",
       "      <td>3067.0</td>\n",
       "      <td>...</td>\n",
       "      <td>1</td>\n",
       "      <td>94.0</td>\n",
       "      <td>NaN</td>\n",
       "      <td>NaN</td>\n",
       "      <td>Yarra City Council</td>\n",
       "      <td>-37.7969</td>\n",
       "      <td>144.9969</td>\n",
       "      <td>Northern Metropolitan</td>\n",
       "      <td>4019.0</td>\n",
       "      <td>4</td>\n",
       "    </tr>\n",
       "    <tr>\n",
       "      <th>6</th>\n",
       "      <td>Abbotsford</td>\n",
       "      <td>55a Park St</td>\n",
       "      <td>4</td>\n",
       "      <td>h</td>\n",
       "      <td>1600000.0</td>\n",
       "      <td>VB</td>\n",
       "      <td>Nelson</td>\n",
       "      <td>2016-04-06</td>\n",
       "      <td>2.5</td>\n",
       "      <td>3067.0</td>\n",
       "      <td>...</td>\n",
       "      <td>2</td>\n",
       "      <td>120.0</td>\n",
       "      <td>142.0</td>\n",
       "      <td>2014.0</td>\n",
       "      <td>Yarra City Council</td>\n",
       "      <td>-37.8072</td>\n",
       "      <td>144.9941</td>\n",
       "      <td>Northern Metropolitan</td>\n",
       "      <td>4019.0</td>\n",
       "      <td>4</td>\n",
       "    </tr>\n",
       "  </tbody>\n",
       "</table>\n",
       "<p>5 rows × 22 columns</p>\n",
       "</div>"
      ],
      "text/plain": [
       "       Suburb           Address  Rooms Type      Price Method SellerG  \\\n",
       "1  Abbotsford      85 Turner St      2    h  1480000.0      S  Biggin   \n",
       "2  Abbotsford   25 Bloomburg St      2    h  1035000.0      S  Biggin   \n",
       "4  Abbotsford      5 Charles St      3    h  1465000.0     SP  Biggin   \n",
       "5  Abbotsford  40 Federation La      3    h   850000.0     PI  Biggin   \n",
       "6  Abbotsford       55a Park St      4    h  1600000.0     VB  Nelson   \n",
       "\n",
       "        Date  Distance  Postcode  ...  Car  Landsize  BuildingArea  YearBuilt  \\\n",
       "1 2016-03-12       2.5    3067.0  ...    1     202.0           NaN        NaN   \n",
       "2 2016-04-02       2.5    3067.0  ...    0     156.0          79.0     1900.0   \n",
       "4 2017-04-03       2.5    3067.0  ...    0     134.0         150.0     1900.0   \n",
       "5 2017-04-03       2.5    3067.0  ...    1      94.0           NaN        NaN   \n",
       "6 2016-04-06       2.5    3067.0  ...    2     120.0         142.0     2014.0   \n",
       "\n",
       "          CouncilArea  Lattitude Longtitude             Regionname  \\\n",
       "1  Yarra City Council   -37.7996   144.9984  Northern Metropolitan   \n",
       "2  Yarra City Council   -37.8079   144.9934  Northern Metropolitan   \n",
       "4  Yarra City Council   -37.8093   144.9944  Northern Metropolitan   \n",
       "5  Yarra City Council   -37.7969   144.9969  Northern Metropolitan   \n",
       "6  Yarra City Council   -37.8072   144.9941  Northern Metropolitan   \n",
       "\n",
       "   Propertycount month  \n",
       "1         4019.0     3  \n",
       "2         4019.0     4  \n",
       "4         4019.0     4  \n",
       "5         4019.0     4  \n",
       "6         4019.0     4  \n",
       "\n",
       "[5 rows x 22 columns]"
      ]
     },
     "execution_count": 17,
     "metadata": {},
     "output_type": "execute_result"
    }
   ],
   "source": [
    "df.head()"
   ]
  },
  {
   "cell_type": "code",
   "execution_count": 18,
   "metadata": {},
   "outputs": [],
   "source": [
    "df = df.drop(['BuildingArea','YearBuilt','Bedroom2','Address','Postcode'], axis = 1)"
   ]
  },
  {
   "cell_type": "code",
   "execution_count": 19,
   "metadata": {},
   "outputs": [],
   "source": [
    "df.to_csv('data_feature_2.csv', encoding='utf-8', index=False)"
   ]
  },
  {
   "cell_type": "code",
   "execution_count": 20,
   "metadata": {},
   "outputs": [
    {
     "data": {
      "text/plain": [
       "Suburb              0\n",
       "Rooms               0\n",
       "Type                0\n",
       "Price               0\n",
       "Method              0\n",
       "SellerG             0\n",
       "Date                0\n",
       "Distance            0\n",
       "Bathroom            0\n",
       "Car                 0\n",
       "Landsize            0\n",
       "CouncilArea         0\n",
       "Lattitude        6251\n",
       "Longtitude       6251\n",
       "Regionname          0\n",
       "Propertycount       0\n",
       "month               0\n",
       "dtype: int64"
      ]
     },
     "execution_count": 20,
     "metadata": {},
     "output_type": "execute_result"
    }
   ],
   "source": [
    "df.isnull().sum()"
   ]
  },
  {
   "cell_type": "code",
   "execution_count": 21,
   "metadata": {},
   "outputs": [],
   "source": [
    "df.loc[df.Lattitude.isnull(), 'Lattitude']  = df.groupby('Suburb')['Lattitude'].transform(lambda x: x.fillna(x.mean()))\n",
    "df.loc[df.Longtitude.isnull(), 'Longtitude']  = df.groupby('Suburb')['Longtitude'].transform(lambda x: x.fillna(x.mean()))"
   ]
  },
  {
   "cell_type": "code",
   "execution_count": 22,
   "metadata": {},
   "outputs": [],
   "source": [
    "df=df.dropna(axis=0, how='any')"
   ]
  },
  {
   "cell_type": "code",
   "execution_count": 23,
   "metadata": {},
   "outputs": [
    {
     "data": {
      "text/plain": [
       "Suburb           0\n",
       "Rooms            0\n",
       "Type             0\n",
       "Price            0\n",
       "Method           0\n",
       "SellerG          0\n",
       "Date             0\n",
       "Distance         0\n",
       "Bathroom         0\n",
       "Car              0\n",
       "Landsize         0\n",
       "CouncilArea      0\n",
       "Lattitude        0\n",
       "Longtitude       0\n",
       "Regionname       0\n",
       "Propertycount    0\n",
       "month            0\n",
       "dtype: int64"
      ]
     },
     "execution_count": 23,
     "metadata": {},
     "output_type": "execute_result"
    }
   ],
   "source": [
    "df.isnull().sum()"
   ]
  },
  {
   "cell_type": "markdown",
   "metadata": {},
   "source": [
    "# Now Data is sucessfully Cleaned."
   ]
  },
  {
   "cell_type": "code",
   "execution_count": 24,
   "metadata": {},
   "outputs": [],
   "source": [
    "df['Date']= pd.to_datetime(df['Date'],dayfirst=True)"
   ]
  },
  {
   "cell_type": "code",
   "execution_count": 25,
   "metadata": {},
   "outputs": [],
   "source": [
    "# Grouping the features by Date\n",
    "var = df[df['Type']=='h'].sort_values('Date',ascending=False).groupby('Date').std()\n",
    "count = df[df['Type']=='h'].sort_values('Date',ascending=False).groupby('Date').count()\n",
    "mean = df[df['Type']=='h'].sort_values('Date',ascending=False).groupby('Date').mean()"
   ]
  },
  {
   "cell_type": "code",
   "execution_count": 26,
   "metadata": {},
   "outputs": [
    {
     "data": {
      "text/html": [
       "<div>\n",
       "<style scoped>\n",
       "    .dataframe tbody tr th:only-of-type {\n",
       "        vertical-align: middle;\n",
       "    }\n",
       "\n",
       "    .dataframe tbody tr th {\n",
       "        vertical-align: top;\n",
       "    }\n",
       "\n",
       "    .dataframe thead th {\n",
       "        text-align: right;\n",
       "    }\n",
       "</style>\n",
       "<table border=\"1\" class=\"dataframe\">\n",
       "  <thead>\n",
       "    <tr style=\"text-align: right;\">\n",
       "      <th></th>\n",
       "      <th>Rooms</th>\n",
       "      <th>Price</th>\n",
       "      <th>Distance</th>\n",
       "      <th>Bathroom</th>\n",
       "      <th>Car</th>\n",
       "      <th>Landsize</th>\n",
       "      <th>Lattitude</th>\n",
       "      <th>Longtitude</th>\n",
       "      <th>Propertycount</th>\n",
       "      <th>month</th>\n",
       "    </tr>\n",
       "    <tr>\n",
       "      <th>Date</th>\n",
       "      <th></th>\n",
       "      <th></th>\n",
       "      <th></th>\n",
       "      <th></th>\n",
       "      <th></th>\n",
       "      <th></th>\n",
       "      <th></th>\n",
       "      <th></th>\n",
       "      <th></th>\n",
       "      <th></th>\n",
       "    </tr>\n",
       "  </thead>\n",
       "  <tbody>\n",
       "    <tr>\n",
       "      <th>2016-01-28</th>\n",
       "      <td>3.000000</td>\n",
       "      <td>1.205000e+06</td>\n",
       "      <td>11.200000</td>\n",
       "      <td>1.000000</td>\n",
       "      <td>2.000000</td>\n",
       "      <td>490.000000</td>\n",
       "      <td>-37.836100</td>\n",
       "      <td>145.100600</td>\n",
       "      <td>5457.000000</td>\n",
       "      <td>1.0</td>\n",
       "    </tr>\n",
       "    <tr>\n",
       "      <th>2016-03-09</th>\n",
       "      <td>3.201117</td>\n",
       "      <td>1.373916e+06</td>\n",
       "      <td>9.269274</td>\n",
       "      <td>1.564246</td>\n",
       "      <td>1.709497</td>\n",
       "      <td>537.820281</td>\n",
       "      <td>-37.806525</td>\n",
       "      <td>144.989781</td>\n",
       "      <td>6507.905028</td>\n",
       "      <td>3.0</td>\n",
       "    </tr>\n",
       "    <tr>\n",
       "      <th>2016-03-12</th>\n",
       "      <td>3.318777</td>\n",
       "      <td>1.446823e+06</td>\n",
       "      <td>9.473362</td>\n",
       "      <td>1.633188</td>\n",
       "      <td>1.703057</td>\n",
       "      <td>540.920996</td>\n",
       "      <td>-37.812252</td>\n",
       "      <td>144.993898</td>\n",
       "      <td>7038.384279</td>\n",
       "      <td>3.0</td>\n",
       "    </tr>\n",
       "    <tr>\n",
       "      <th>2016-04-02</th>\n",
       "      <td>3.000000</td>\n",
       "      <td>1.068888e+06</td>\n",
       "      <td>9.835000</td>\n",
       "      <td>1.500000</td>\n",
       "      <td>1.900000</td>\n",
       "      <td>513.940635</td>\n",
       "      <td>-37.806665</td>\n",
       "      <td>144.972249</td>\n",
       "      <td>5679.500000</td>\n",
       "      <td>4.0</td>\n",
       "    </tr>\n",
       "    <tr>\n",
       "      <th>2016-04-06</th>\n",
       "      <td>3.341040</td>\n",
       "      <td>1.242345e+06</td>\n",
       "      <td>9.379769</td>\n",
       "      <td>1.653179</td>\n",
       "      <td>1.774566</td>\n",
       "      <td>532.968851</td>\n",
       "      <td>-37.812906</td>\n",
       "      <td>144.989191</td>\n",
       "      <td>6502.075145</td>\n",
       "      <td>4.0</td>\n",
       "    </tr>\n",
       "  </tbody>\n",
       "</table>\n",
       "</div>"
      ],
      "text/plain": [
       "               Rooms         Price   Distance  Bathroom       Car    Landsize  \\\n",
       "Date                                                                            \n",
       "2016-01-28  3.000000  1.205000e+06  11.200000  1.000000  2.000000  490.000000   \n",
       "2016-03-09  3.201117  1.373916e+06   9.269274  1.564246  1.709497  537.820281   \n",
       "2016-03-12  3.318777  1.446823e+06   9.473362  1.633188  1.703057  540.920996   \n",
       "2016-04-02  3.000000  1.068888e+06   9.835000  1.500000  1.900000  513.940635   \n",
       "2016-04-06  3.341040  1.242345e+06   9.379769  1.653179  1.774566  532.968851   \n",
       "\n",
       "            Lattitude  Longtitude  Propertycount  month  \n",
       "Date                                                     \n",
       "2016-01-28 -37.836100  145.100600    5457.000000    1.0  \n",
       "2016-03-09 -37.806525  144.989781    6507.905028    3.0  \n",
       "2016-03-12 -37.812252  144.993898    7038.384279    3.0  \n",
       "2016-04-02 -37.806665  144.972249    5679.500000    4.0  \n",
       "2016-04-06 -37.812906  144.989191    6502.075145    4.0  "
      ]
     },
     "execution_count": 26,
     "metadata": {},
     "output_type": "execute_result"
    }
   ],
   "source": [
    "mean.head()"
   ]
  },
  {
   "cell_type": "code",
   "execution_count": 27,
   "metadata": {},
   "outputs": [
    {
     "data": {
      "text/html": [
       "<div>\n",
       "<style scoped>\n",
       "    .dataframe tbody tr th:only-of-type {\n",
       "        vertical-align: middle;\n",
       "    }\n",
       "\n",
       "    .dataframe tbody tr th {\n",
       "        vertical-align: top;\n",
       "    }\n",
       "\n",
       "    .dataframe thead th {\n",
       "        text-align: right;\n",
       "    }\n",
       "</style>\n",
       "<table border=\"1\" class=\"dataframe\">\n",
       "  <thead>\n",
       "    <tr style=\"text-align: right;\">\n",
       "      <th></th>\n",
       "      <th>Suburb</th>\n",
       "      <th>Rooms</th>\n",
       "      <th>Type</th>\n",
       "      <th>Price</th>\n",
       "      <th>Method</th>\n",
       "      <th>SellerG</th>\n",
       "      <th>Distance</th>\n",
       "      <th>Bathroom</th>\n",
       "      <th>Car</th>\n",
       "      <th>Landsize</th>\n",
       "      <th>CouncilArea</th>\n",
       "      <th>Lattitude</th>\n",
       "      <th>Longtitude</th>\n",
       "      <th>Regionname</th>\n",
       "      <th>Propertycount</th>\n",
       "      <th>month</th>\n",
       "    </tr>\n",
       "    <tr>\n",
       "      <th>Date</th>\n",
       "      <th></th>\n",
       "      <th></th>\n",
       "      <th></th>\n",
       "      <th></th>\n",
       "      <th></th>\n",
       "      <th></th>\n",
       "      <th></th>\n",
       "      <th></th>\n",
       "      <th></th>\n",
       "      <th></th>\n",
       "      <th></th>\n",
       "      <th></th>\n",
       "      <th></th>\n",
       "      <th></th>\n",
       "      <th></th>\n",
       "      <th></th>\n",
       "    </tr>\n",
       "  </thead>\n",
       "  <tbody>\n",
       "    <tr>\n",
       "      <th>2016-01-28</th>\n",
       "      <td>1</td>\n",
       "      <td>1</td>\n",
       "      <td>1</td>\n",
       "      <td>1</td>\n",
       "      <td>1</td>\n",
       "      <td>1</td>\n",
       "      <td>1</td>\n",
       "      <td>1</td>\n",
       "      <td>1</td>\n",
       "      <td>1</td>\n",
       "      <td>1</td>\n",
       "      <td>1</td>\n",
       "      <td>1</td>\n",
       "      <td>1</td>\n",
       "      <td>1</td>\n",
       "      <td>1</td>\n",
       "    </tr>\n",
       "    <tr>\n",
       "      <th>2016-03-09</th>\n",
       "      <td>179</td>\n",
       "      <td>179</td>\n",
       "      <td>179</td>\n",
       "      <td>179</td>\n",
       "      <td>179</td>\n",
       "      <td>179</td>\n",
       "      <td>179</td>\n",
       "      <td>179</td>\n",
       "      <td>179</td>\n",
       "      <td>179</td>\n",
       "      <td>179</td>\n",
       "      <td>179</td>\n",
       "      <td>179</td>\n",
       "      <td>179</td>\n",
       "      <td>179</td>\n",
       "      <td>179</td>\n",
       "    </tr>\n",
       "    <tr>\n",
       "      <th>2016-03-12</th>\n",
       "      <td>229</td>\n",
       "      <td>229</td>\n",
       "      <td>229</td>\n",
       "      <td>229</td>\n",
       "      <td>229</td>\n",
       "      <td>229</td>\n",
       "      <td>229</td>\n",
       "      <td>229</td>\n",
       "      <td>229</td>\n",
       "      <td>229</td>\n",
       "      <td>229</td>\n",
       "      <td>229</td>\n",
       "      <td>229</td>\n",
       "      <td>229</td>\n",
       "      <td>229</td>\n",
       "      <td>229</td>\n",
       "    </tr>\n",
       "    <tr>\n",
       "      <th>2016-04-02</th>\n",
       "      <td>20</td>\n",
       "      <td>20</td>\n",
       "      <td>20</td>\n",
       "      <td>20</td>\n",
       "      <td>20</td>\n",
       "      <td>20</td>\n",
       "      <td>20</td>\n",
       "      <td>20</td>\n",
       "      <td>20</td>\n",
       "      <td>20</td>\n",
       "      <td>20</td>\n",
       "      <td>20</td>\n",
       "      <td>20</td>\n",
       "      <td>20</td>\n",
       "      <td>20</td>\n",
       "      <td>20</td>\n",
       "    </tr>\n",
       "    <tr>\n",
       "      <th>2016-04-06</th>\n",
       "      <td>173</td>\n",
       "      <td>173</td>\n",
       "      <td>173</td>\n",
       "      <td>173</td>\n",
       "      <td>173</td>\n",
       "      <td>173</td>\n",
       "      <td>173</td>\n",
       "      <td>173</td>\n",
       "      <td>173</td>\n",
       "      <td>173</td>\n",
       "      <td>173</td>\n",
       "      <td>173</td>\n",
       "      <td>173</td>\n",
       "      <td>173</td>\n",
       "      <td>173</td>\n",
       "      <td>173</td>\n",
       "    </tr>\n",
       "  </tbody>\n",
       "</table>\n",
       "</div>"
      ],
      "text/plain": [
       "            Suburb  Rooms  Type  Price  Method  SellerG  Distance  Bathroom  \\\n",
       "Date                                                                          \n",
       "2016-01-28       1      1     1      1       1        1         1         1   \n",
       "2016-03-09     179    179   179    179     179      179       179       179   \n",
       "2016-03-12     229    229   229    229     229      229       229       229   \n",
       "2016-04-02      20     20    20     20      20       20        20        20   \n",
       "2016-04-06     173    173   173    173     173      173       173       173   \n",
       "\n",
       "            Car  Landsize  CouncilArea  Lattitude  Longtitude  Regionname  \\\n",
       "Date                                                                        \n",
       "2016-01-28    1         1            1          1           1           1   \n",
       "2016-03-09  179       179          179        179         179         179   \n",
       "2016-03-12  229       229          229        229         229         229   \n",
       "2016-04-02   20        20           20         20          20          20   \n",
       "2016-04-06  173       173          173        173         173         173   \n",
       "\n",
       "            Propertycount  month  \n",
       "Date                              \n",
       "2016-01-28              1      1  \n",
       "2016-03-09            179    179  \n",
       "2016-03-12            229    229  \n",
       "2016-04-02             20     20  \n",
       "2016-04-06            173    173  "
      ]
     },
     "execution_count": 27,
     "metadata": {},
     "output_type": "execute_result"
    }
   ],
   "source": [
    "count.head()"
   ]
  },
  {
   "cell_type": "markdown",
   "metadata": {},
   "source": [
    "# Data Visualization"
   ]
  },
  {
   "cell_type": "code",
   "execution_count": 28,
   "metadata": {},
   "outputs": [
    {
     "data": {
      "text/plain": [
       "<matplotlib.axes._subplots.AxesSubplot at 0x1a689f690c8>"
      ]
     },
     "execution_count": 28,
     "metadata": {},
     "output_type": "execute_result"
    },
    {
     "data": {
      "image/png": "[encoded data removed]",
      "text/plain": [
       "<Figure size 432x288 with 1 Axes>"
      ]
     },
     "metadata": {
      "needs_background": "light"
     },
     "output_type": "display_data"
    }
   ],
   "source": [
    "# Plotting average Landsize marked by variance in price\n",
    "mean[\"Landsize\"].plot(yerr=var[\"Price\"])"
   ]
  },
  {
   "cell_type": "code",
   "execution_count": 29,
   "metadata": {},
   "outputs": [
    {
     "data": {
      "text/plain": [
       "Text(0.5, 1.0, 'Lattitude to Longitude for Regionname')"
      ]
     },
     "execution_count": 29,
     "metadata": {},
     "output_type": "execute_result"
    },
    {
     "data": {
      "image/png": "[encoded data removed]",
      "text/plain": [
       "<Figure size 720x504 with 1 Axes>"
      ]
     },
     "metadata": {},
     "output_type": "display_data"
    }
   ],
   "source": [
    "plt.figure(figsize=(10,7), facecolor='w', edgecolor='k')\n",
    "sns.scatterplot(df[\"Longtitude\"], df[\"Lattitude\"], hue=df[\"Regionname\"])\n",
    "plt.legend(bbox_to_anchor=(1.05, 1), loc=2, borderaxespad=0.2)\n",
    "plt.title(\"Lattitude to Longitude for Regionname\")"
   ]
  },
  {
   "cell_type": "code",
   "execution_count": 30,
   "metadata": {},
   "outputs": [],
   "source": [
    "#Group all the features by Date for the houses of type h and Distance less than 14 kms from CBD.\n",
    "feature_means = df[(df['Type']=='h')& (df['Distance']<14)].sort_values('Date',ascending=False).groupby('Date').mean()\n",
    "feature_std = df[(df['Type']=='h') & (df['Distance']<14)].sort_values('Date',ascending=False).groupby('Date').std()"
   ]
  },
  {
   "cell_type": "code",
   "execution_count": 31,
   "metadata": {},
   "outputs": [],
   "source": [
    "feature_location=df[(df['Type']=='h')&(df['Distance']<14)].sort_values('Date',ascending=False).dropna().groupby(['Suburb']).mean()"
   ]
  },
  {
   "cell_type": "code",
   "execution_count": 32,
   "metadata": {},
   "outputs": [],
   "source": [
    "#Group all the features by Regionname for the houses of type h and Distance less than 14 kms from CBD.\n",
    "feature_region_mean=df[(df['Type']=='h')&(df['Distance']<14)].sort_values('Date',ascending=False).dropna().groupby('Regionname').mean()\n",
    "feature_region_std=df[(df['Type']=='h')&(df['Distance']<14)].sort_values('Date',ascending=False).dropna().groupby('Regionname').std()"
   ]
  },
  {
   "cell_type": "code",
   "execution_count": 33,
   "metadata": {},
   "outputs": [
    {
     "data": {
      "text/plain": [
       "<matplotlib.axes._subplots.AxesSubplot at 0x1a68d1d1348>"
      ]
     },
     "execution_count": 33,
     "metadata": {},
     "output_type": "execute_result"
    },
    {
     "data": {
      "image/png": "[encoded data removed]",
      "text/plain": [
       "<Figure size 648x576 with 1 Axes>"
      ]
     },
     "metadata": {
      "needs_background": "light"
     },
     "output_type": "display_data"
    }
   ],
   "source": [
    "# Plotting the avrega eprice of house sold by Regionname\n",
    "feature_region_mean['Price'].plot(kind='bar',figsize =(9,8))"
   ]
  },
  {
   "cell_type": "code",
   "execution_count": 34,
   "metadata": {},
   "outputs": [],
   "source": [
    "# Looking at the average price range in suburb for houses sold in Southern Metropolitan\n",
    "feature_SouthernM = df[(df['Regionname']=='Southern Metropolitan')& \n",
    "                               (df['Type']=='h') & \n",
    "                                (df['Distance']<=14)].sort_values('Date',ascending=False).groupby('Suburb').mean()"
   ]
  },
  {
   "cell_type": "code",
   "execution_count": 35,
   "metadata": {},
   "outputs": [
    {
     "data": {
      "text/plain": [
       "<matplotlib.axes._subplots.AxesSubplot at 0x1a68d33e548>"
      ]
     },
     "execution_count": 35,
     "metadata": {},
     "output_type": "execute_result"
    },
    {
     "data": {
      "image/png": "[encoded data removed]",
      "text/plain": [
       "<Figure size 648x432 with 1 Axes>"
      ]
     },
     "metadata": {
      "needs_background": "light"
     },
     "output_type": "display_data"
    }
   ],
   "source": [
    "feature_SouthernM['Price'].plot(kind='bar',color = 'g', figsize=(9,6))"
   ]
  },
  {
   "cell_type": "code",
   "execution_count": 36,
   "metadata": {},
   "outputs": [],
   "source": [
    "#Analyzing Average no. of rooms and Distance for each of the Suburb in Southern Metropolitan Region\n",
    "feature_South_Suburb = df[(df['Regionname']=='Southern Metropolitan')& \n",
    "                               (df['Type']=='h') & \n",
    "                                (df['Distance']<=14)].sort_values('Date',ascending=False).groupby('Suburb').agg({'Rooms':'median','Distance':'mean'})"
   ]
  },
  {
   "cell_type": "code",
   "execution_count": 37,
   "metadata": {},
   "outputs": [
    {
     "data": {
      "text/html": [
       "<div>\n",
       "<style scoped>\n",
       "    .dataframe tbody tr th:only-of-type {\n",
       "        vertical-align: middle;\n",
       "    }\n",
       "\n",
       "    .dataframe tbody tr th {\n",
       "        vertical-align: top;\n",
       "    }\n",
       "\n",
       "    .dataframe thead th {\n",
       "        text-align: right;\n",
       "    }\n",
       "</style>\n",
       "<table border=\"1\" class=\"dataframe\">\n",
       "  <thead>\n",
       "    <tr style=\"text-align: right;\">\n",
       "      <th></th>\n",
       "      <th>Rooms</th>\n",
       "      <th>Distance</th>\n",
       "    </tr>\n",
       "    <tr>\n",
       "      <th>Suburb</th>\n",
       "      <th></th>\n",
       "      <th></th>\n",
       "    </tr>\n",
       "  </thead>\n",
       "  <tbody>\n",
       "    <tr>\n",
       "      <th>Albert Park</th>\n",
       "      <td>3.0</td>\n",
       "      <td>3.183750</td>\n",
       "    </tr>\n",
       "    <tr>\n",
       "      <th>Armadale</th>\n",
       "      <td>3.0</td>\n",
       "      <td>6.300000</td>\n",
       "    </tr>\n",
       "    <tr>\n",
       "      <th>Ashburton</th>\n",
       "      <td>3.0</td>\n",
       "      <td>10.709890</td>\n",
       "    </tr>\n",
       "    <tr>\n",
       "      <th>Ashwood</th>\n",
       "      <td>3.0</td>\n",
       "      <td>11.264516</td>\n",
       "    </tr>\n",
       "    <tr>\n",
       "      <th>Balaclava</th>\n",
       "      <td>3.0</td>\n",
       "      <td>6.466667</td>\n",
       "    </tr>\n",
       "  </tbody>\n",
       "</table>\n",
       "</div>"
      ],
      "text/plain": [
       "             Rooms   Distance\n",
       "Suburb                       \n",
       "Albert Park    3.0   3.183750\n",
       "Armadale       3.0   6.300000\n",
       "Ashburton      3.0  10.709890\n",
       "Ashwood        3.0  11.264516\n",
       "Balaclava      3.0   6.466667"
      ]
     },
     "execution_count": 37,
     "metadata": {},
     "output_type": "execute_result"
    }
   ],
   "source": [
    "feature_South_Suburb.head()"
   ]
  },
  {
   "cell_type": "code",
   "execution_count": 38,
   "metadata": {},
   "outputs": [],
   "source": [
    "#Analyzing Average no. of rooms and Distance for each of the Suburb in Western Metropolitan Region\n",
    "feature_West_Suburb = df[(df['Regionname']=='Western Metropolitan')& \n",
    "                               (df['Type']=='h') & \n",
    "                                (df['Distance']<=14)].sort_values('Date',ascending=False).groupby('Suburb').agg({'Rooms':'median','Distance':'mean'})"
   ]
  },
  {
   "cell_type": "code",
   "execution_count": 39,
   "metadata": {},
   "outputs": [
    {
     "data": {
      "text/html": [
       "<div>\n",
       "<style scoped>\n",
       "    .dataframe tbody tr th:only-of-type {\n",
       "        vertical-align: middle;\n",
       "    }\n",
       "\n",
       "    .dataframe tbody tr th {\n",
       "        vertical-align: top;\n",
       "    }\n",
       "\n",
       "    .dataframe thead th {\n",
       "        text-align: right;\n",
       "    }\n",
       "</style>\n",
       "<table border=\"1\" class=\"dataframe\">\n",
       "  <thead>\n",
       "    <tr style=\"text-align: right;\">\n",
       "      <th></th>\n",
       "      <th>Rooms</th>\n",
       "      <th>Distance</th>\n",
       "    </tr>\n",
       "    <tr>\n",
       "      <th>Suburb</th>\n",
       "      <th></th>\n",
       "      <th></th>\n",
       "    </tr>\n",
       "  </thead>\n",
       "  <tbody>\n",
       "    <tr>\n",
       "      <th>Aberfeldie</th>\n",
       "      <td>4</td>\n",
       "      <td>8.283673</td>\n",
       "    </tr>\n",
       "    <tr>\n",
       "      <th>Airport West</th>\n",
       "      <td>3</td>\n",
       "      <td>11.848913</td>\n",
       "    </tr>\n",
       "    <tr>\n",
       "      <th>Albanvale</th>\n",
       "      <td>3</td>\n",
       "      <td>14.000000</td>\n",
       "    </tr>\n",
       "    <tr>\n",
       "      <th>Albion</th>\n",
       "      <td>3</td>\n",
       "      <td>12.239535</td>\n",
       "    </tr>\n",
       "    <tr>\n",
       "      <th>Altona</th>\n",
       "      <td>3</td>\n",
       "      <td>12.421538</td>\n",
       "    </tr>\n",
       "    <tr>\n",
       "      <th>Altona North</th>\n",
       "      <td>3</td>\n",
       "      <td>10.432143</td>\n",
       "    </tr>\n",
       "    <tr>\n",
       "      <th>Ardeer</th>\n",
       "      <td>3</td>\n",
       "      <td>12.800000</td>\n",
       "    </tr>\n",
       "    <tr>\n",
       "      <th>Ascot Vale</th>\n",
       "      <td>3</td>\n",
       "      <td>5.210000</td>\n",
       "    </tr>\n",
       "    <tr>\n",
       "      <th>Avondale Heights</th>\n",
       "      <td>3</td>\n",
       "      <td>10.030769</td>\n",
       "    </tr>\n",
       "    <tr>\n",
       "      <th>Braybrook</th>\n",
       "      <td>3</td>\n",
       "      <td>9.912903</td>\n",
       "    </tr>\n",
       "  </tbody>\n",
       "</table>\n",
       "</div>"
      ],
      "text/plain": [
       "                  Rooms   Distance\n",
       "Suburb                            \n",
       "Aberfeldie            4   8.283673\n",
       "Airport West          3  11.848913\n",
       "Albanvale             3  14.000000\n",
       "Albion                3  12.239535\n",
       "Altona                3  12.421538\n",
       "Altona North          3  10.432143\n",
       "Ardeer                3  12.800000\n",
       "Ascot Vale            3   5.210000\n",
       "Avondale Heights      3  10.030769\n",
       "Braybrook             3   9.912903"
      ]
     },
     "execution_count": 39,
     "metadata": {},
     "output_type": "execute_result"
    }
   ],
   "source": [
    "feature_West_Suburb.head(10)"
   ]
  },
  {
   "cell_type": "code",
   "execution_count": 40,
   "metadata": {},
   "outputs": [],
   "source": [
    "# Looking at the average price range in suburb for houses sold in Western Metropolitan\n",
    "feature_WesternM = df[(df['Regionname']=='Western Metropolitan')& \n",
    "                               (df['Type']=='h') & \n",
    "                                (df['Distance']<=14)].sort_values('Date',ascending=False).groupby('Suburb').mean()"
   ]
  },
  {
   "cell_type": "code",
   "execution_count": 41,
   "metadata": {},
   "outputs": [
    {
     "data": {
      "text/plain": [
       "<matplotlib.axes._subplots.AxesSubplot at 0x1a68d695548>"
      ]
     },
     "execution_count": 41,
     "metadata": {},
     "output_type": "execute_result"
    },
    {
     "data": {
      "image/png": "[encoded data removed]",
      "text/plain": [
       "<Figure size 720x360 with 1 Axes>"
      ]
     },
     "metadata": {
      "needs_background": "light"
     },
     "output_type": "display_data"
    }
   ],
   "source": [
    "feature_WesternM['Price'].plot(kind='bar', color = 'r', figsize=(10,5))"
   ]
  },
  {
   "cell_type": "code",
   "execution_count": 42,
   "metadata": {},
   "outputs": [],
   "source": [
    "# Looking at the average price range in suburb for 2 bedroom houses located in the distance of less than 5 kms from CBD sold in Southern Metropolitan \n",
    "# Anlyzing the affordable price in the suburbs.\n",
    "Southern_affordable = df[(df['Regionname']=='Southern Metropolitan')&\n",
    "                                (df['Rooms']==2)&\n",
    "                                (df['Type']=='h')&\n",
    "                                (df['Distance']<=5)].sort_values('Date',ascending=False).groupby('Suburb').mean()"
   ]
  },
  {
   "cell_type": "code",
   "execution_count": 43,
   "metadata": {},
   "outputs": [
    {
     "data": {
      "text/plain": [
       "<matplotlib.axes._subplots.AxesSubplot at 0x1a68d931088>"
      ]
     },
     "execution_count": 43,
     "metadata": {},
     "output_type": "execute_result"
    },
    {
     "data": {
      "image/png": "[encoded data removed]",
      "text/plain": [
       "<Figure size 720x360 with 1 Axes>"
      ]
     },
     "metadata": {
      "needs_background": "light"
     },
     "output_type": "display_data"
    }
   ],
   "source": [
    "Southern_affordable['Price'].plot(kind='bar',color = 'y', figsize=(10,5))"
   ]
  },
  {
   "cell_type": "code",
   "execution_count": 44,
   "metadata": {},
   "outputs": [],
   "source": [
    "# Looking at the average price range in suburb for 2 bedroom houses located in the distance of less than 5 kms from CBD sold in Southern Metropolitan \n",
    "# Anlyzing the affordable price in the suburbs.\n",
    "Western_affordable = df[(df['Regionname']=='Western Metropolitan')&\n",
    "                                (df['Rooms']==2)&\n",
    "                                (df['Type']=='h')&\n",
    "                                (df['Distance']<=6)].sort_values('Date',ascending=False).groupby('Suburb').mean()"
   ]
  },
  {
   "cell_type": "code",
   "execution_count": 45,
   "metadata": {},
   "outputs": [
    {
     "data": {
      "text/plain": [
       "<matplotlib.axes._subplots.AxesSubplot at 0x1a68d9bc448>"
      ]
     },
     "execution_count": 45,
     "metadata": {},
     "output_type": "execute_result"
    },
    {
     "data": {
      "image/png": "[encoded data removed]",
      "text/plain": [
       "<Figure size 720x360 with 1 Axes>"
      ]
     },
     "metadata": {
      "needs_background": "light"
     },
     "output_type": "display_data"
    }
   ],
   "source": [
    "Western_affordable['Price'].plot(kind='bar', color = 'black', figsize=(10,5))"
   ]
  },
  {
   "cell_type": "code",
   "execution_count": 47,
   "metadata": {},
   "outputs": [
    {
     "data": {
      "text/plain": [
       "<matplotlib.axes._subplots.AxesSubplot at 0x1a68dbb5308>"
      ]
     },
     "execution_count": 47,
     "metadata": {},
     "output_type": "execute_result"
    },
    {
     "data": {
      "image/png": "[encoded data removed]",
      "text/plain": [
       "<Figure size 648x648 with 2 Axes>"
      ]
     },
     "metadata": {
      "needs_background": "light"
     },
     "output_type": "display_data"
    }
   ],
   "source": [
    "# Plotting the heatmap to understand the features correlation\n",
    "fig,ax = plt.subplots(figsize=(9,9))\n",
    "sns.heatmap(df.corr(),annot=True)"
   ]
  },
  {
   "cell_type": "code",
   "execution_count": 48,
   "metadata": {},
   "outputs": [],
   "source": [
    "#Drop Null values from dataframe\n",
    "dataframe_Housing = df.dropna().sort_values('Date')"
   ]
  },
  {
   "cell_type": "code",
   "execution_count": 49,
   "metadata": {},
   "outputs": [],
   "source": [
    "# Convert the date column to number of days from the date when the house is sold\n",
    "from datetime import date\n",
    "days_since_start = [(x-dataframe_Housing['Date'].min()).days for x in dataframe_Housing['Date']]\n",
    "dataframe_Housing['Days']= days_since_start"
   ]
  },
  {
   "cell_type": "code",
   "execution_count": 50,
   "metadata": {},
   "outputs": [],
   "source": [
    "# Dropping columns which has less correlation to target variable(Price)\n",
    "df_Housing=dataframe_Housing.drop(['Date','SellerG','Landsize','Propertycount'],axis=1)"
   ]
  },
  {
   "cell_type": "code",
   "execution_count": 51,
   "metadata": {},
   "outputs": [
    {
     "data": {
      "text/plain": [
       "Suburb          object\n",
       "Rooms            int64\n",
       "Type            object\n",
       "Price          float64\n",
       "Method          object\n",
       "Distance       float64\n",
       "Bathroom         int64\n",
       "Car              int64\n",
       "CouncilArea     object\n",
       "Lattitude      float64\n",
       "Longtitude     float64\n",
       "Regionname      object\n",
       "month            int64\n",
       "Days             int64\n",
       "dtype: object"
      ]
     },
     "execution_count": 51,
     "metadata": {},
     "output_type": "execute_result"
    }
   ],
   "source": [
    "# understanding the dattyoes from the Housing data frame\n",
    "df_Housing.dtypes"
   ]
  },
  {
   "cell_type": "code",
   "execution_count": 52,
   "metadata": {},
   "outputs": [
    {
     "data": {
      "text/plain": [
       "Boroondara City Council           2520\n",
       "Darebin City Council              2349\n",
       "Moreland City Council             1790\n",
       "Glen Eira City Council            1643\n",
       "Moonee Valley City Council        1584\n",
       "Melbourne City Council            1502\n",
       "Banyule City Council              1392\n",
       "Brimbank City Council             1366\n",
       "Bayside City Council              1311\n",
       "Maribyrnong City Council          1221\n",
       "Hume City Council                 1036\n",
       "Monash City Council               1007\n",
       "Port Phillip City Council          952\n",
       "Yarra City Council                 918\n",
       "Stonnington City Council           884\n",
       "Manningham City Council            842\n",
       "Hobsons Bay City Council           799\n",
       "Kingston City Council              735\n",
       "Whittlesea City Council            709\n",
       "Wyndham City Council               492\n",
       "Whitehorse City Council            435\n",
       "Maroondah City Council             355\n",
       "Knox City Council                  287\n",
       "Melton City Council                243\n",
       "Frankston City Council             229\n",
       "Greater Dandenong City Council     209\n",
       "Casey City Council                 137\n",
       "Nillumbik Shire Council             78\n",
       "Yarra Ranges Shire Council          70\n",
       "Macedon Ranges Shire Council        39\n",
       "Cardinia Shire Council              26\n",
       "Mitchell Shire Council              11\n",
       "Moorabool Shire Council              4\n",
       "Name: CouncilArea, dtype: int64"
      ]
     },
     "execution_count": 52,
     "metadata": {},
     "output_type": "execute_result"
    }
   ],
   "source": [
    "df_Housing['CouncilArea'].value_counts()"
   ]
  },
  {
   "cell_type": "code",
   "execution_count": 53,
   "metadata": {},
   "outputs": [],
   "source": [
    "# Convertig Object columns to dummies\n",
    "df_dummies = pd.get_dummies(df_Housing[['Type','Method','CouncilArea','Regionname']])"
   ]
  },
  {
   "cell_type": "code",
   "execution_count": 54,
   "metadata": {},
   "outputs": [
    {
     "data": {
      "text/plain": [
       "Index(['Suburb', 'Rooms', 'Type', 'Price', 'Method', 'Distance', 'Bathroom',\n",
       "       'Car', 'CouncilArea', 'Lattitude', 'Longtitude', 'Regionname', 'month',\n",
       "       'Days'],\n",
       "      dtype='object')"
      ]
     },
     "execution_count": 54,
     "metadata": {},
     "output_type": "execute_result"
    }
   ],
   "source": [
    "df_Housing.columns"
   ]
  },
  {
   "cell_type": "code",
   "execution_count": 55,
   "metadata": {},
   "outputs": [],
   "source": [
    "#Dropping the old columns which have been converted to dummies and creating a new dataframe\n",
    "df_Housing.drop(['Suburb','Type','Method','CouncilArea','Regionname'],axis=1,inplace=True)\n",
    "df_Housing=df_Housing.join(df_dummies)"
   ]
  },
  {
   "cell_type": "code",
   "execution_count": 56,
   "metadata": {},
   "outputs": [
    {
     "data": {
      "text/html": [
       "<div>\n",
       "<style scoped>\n",
       "    .dataframe tbody tr th:only-of-type {\n",
       "        vertical-align: middle;\n",
       "    }\n",
       "\n",
       "    .dataframe tbody tr th {\n",
       "        vertical-align: top;\n",
       "    }\n",
       "\n",
       "    .dataframe thead th {\n",
       "        text-align: right;\n",
       "    }\n",
       "</style>\n",
       "<table border=\"1\" class=\"dataframe\">\n",
       "  <thead>\n",
       "    <tr style=\"text-align: right;\">\n",
       "      <th></th>\n",
       "      <th>Rooms</th>\n",
       "      <th>Price</th>\n",
       "      <th>Distance</th>\n",
       "      <th>Bathroom</th>\n",
       "      <th>Car</th>\n",
       "      <th>Lattitude</th>\n",
       "      <th>Longtitude</th>\n",
       "      <th>month</th>\n",
       "      <th>Days</th>\n",
       "      <th>Type_h</th>\n",
       "      <th>...</th>\n",
       "      <th>CouncilArea_Yarra City Council</th>\n",
       "      <th>CouncilArea_Yarra Ranges Shire Council</th>\n",
       "      <th>Regionname_Eastern Metropolitan</th>\n",
       "      <th>Regionname_Eastern Victoria</th>\n",
       "      <th>Regionname_Northern Metropolitan</th>\n",
       "      <th>Regionname_Northern Victoria</th>\n",
       "      <th>Regionname_South-Eastern Metropolitan</th>\n",
       "      <th>Regionname_Southern Metropolitan</th>\n",
       "      <th>Regionname_Western Metropolitan</th>\n",
       "      <th>Regionname_Western Victoria</th>\n",
       "    </tr>\n",
       "  </thead>\n",
       "  <tbody>\n",
       "    <tr>\n",
       "      <th>10127</th>\n",
       "      <td>2</td>\n",
       "      <td>813000.0</td>\n",
       "      <td>11.2</td>\n",
       "      <td>1</td>\n",
       "      <td>2</td>\n",
       "      <td>-37.827600</td>\n",
       "      <td>145.102300</td>\n",
       "      <td>1</td>\n",
       "      <td>0</td>\n",
       "      <td>0</td>\n",
       "      <td>...</td>\n",
       "      <td>0</td>\n",
       "      <td>0</td>\n",
       "      <td>0</td>\n",
       "      <td>0</td>\n",
       "      <td>0</td>\n",
       "      <td>0</td>\n",
       "      <td>0</td>\n",
       "      <td>1</td>\n",
       "      <td>0</td>\n",
       "      <td>0</td>\n",
       "    </tr>\n",
       "    <tr>\n",
       "      <th>10128</th>\n",
       "      <td>3</td>\n",
       "      <td>1205000.0</td>\n",
       "      <td>11.2</td>\n",
       "      <td>1</td>\n",
       "      <td>2</td>\n",
       "      <td>-37.836100</td>\n",
       "      <td>145.100600</td>\n",
       "      <td>1</td>\n",
       "      <td>0</td>\n",
       "      <td>1</td>\n",
       "      <td>...</td>\n",
       "      <td>0</td>\n",
       "      <td>0</td>\n",
       "      <td>0</td>\n",
       "      <td>0</td>\n",
       "      <td>0</td>\n",
       "      <td>0</td>\n",
       "      <td>0</td>\n",
       "      <td>1</td>\n",
       "      <td>0</td>\n",
       "      <td>0</td>\n",
       "    </tr>\n",
       "    <tr>\n",
       "      <th>6828</th>\n",
       "      <td>3</td>\n",
       "      <td>670000.0</td>\n",
       "      <td>6.9</td>\n",
       "      <td>2</td>\n",
       "      <td>2</td>\n",
       "      <td>-37.767200</td>\n",
       "      <td>144.920900</td>\n",
       "      <td>3</td>\n",
       "      <td>41</td>\n",
       "      <td>0</td>\n",
       "      <td>...</td>\n",
       "      <td>0</td>\n",
       "      <td>0</td>\n",
       "      <td>0</td>\n",
       "      <td>0</td>\n",
       "      <td>0</td>\n",
       "      <td>0</td>\n",
       "      <td>0</td>\n",
       "      <td>0</td>\n",
       "      <td>1</td>\n",
       "      <td>0</td>\n",
       "    </tr>\n",
       "    <tr>\n",
       "      <th>7138</th>\n",
       "      <td>3</td>\n",
       "      <td>780000.0</td>\n",
       "      <td>11.2</td>\n",
       "      <td>2</td>\n",
       "      <td>2</td>\n",
       "      <td>-37.735300</td>\n",
       "      <td>144.890700</td>\n",
       "      <td>3</td>\n",
       "      <td>41</td>\n",
       "      <td>1</td>\n",
       "      <td>...</td>\n",
       "      <td>0</td>\n",
       "      <td>0</td>\n",
       "      <td>0</td>\n",
       "      <td>0</td>\n",
       "      <td>0</td>\n",
       "      <td>0</td>\n",
       "      <td>0</td>\n",
       "      <td>0</td>\n",
       "      <td>1</td>\n",
       "      <td>0</td>\n",
       "    </tr>\n",
       "    <tr>\n",
       "      <th>7139</th>\n",
       "      <td>3</td>\n",
       "      <td>950000.0</td>\n",
       "      <td>11.2</td>\n",
       "      <td>1</td>\n",
       "      <td>2</td>\n",
       "      <td>-37.739833</td>\n",
       "      <td>144.885661</td>\n",
       "      <td>3</td>\n",
       "      <td>41</td>\n",
       "      <td>1</td>\n",
       "      <td>...</td>\n",
       "      <td>0</td>\n",
       "      <td>0</td>\n",
       "      <td>0</td>\n",
       "      <td>0</td>\n",
       "      <td>0</td>\n",
       "      <td>0</td>\n",
       "      <td>0</td>\n",
       "      <td>0</td>\n",
       "      <td>1</td>\n",
       "      <td>0</td>\n",
       "    </tr>\n",
       "  </tbody>\n",
       "</table>\n",
       "<p>5 rows × 58 columns</p>\n",
       "</div>"
      ],
      "text/plain": [
       "       Rooms      Price  Distance  Bathroom  Car  Lattitude  Longtitude  \\\n",
       "10127      2   813000.0      11.2         1    2 -37.827600  145.102300   \n",
       "10128      3  1205000.0      11.2         1    2 -37.836100  145.100600   \n",
       "6828       3   670000.0       6.9         2    2 -37.767200  144.920900   \n",
       "7138       3   780000.0      11.2         2    2 -37.735300  144.890700   \n",
       "7139       3   950000.0      11.2         1    2 -37.739833  144.885661   \n",
       "\n",
       "       month  Days  Type_h  ...  CouncilArea_Yarra City Council  \\\n",
       "10127      1     0       0  ...                               0   \n",
       "10128      1     0       1  ...                               0   \n",
       "6828       3    41       0  ...                               0   \n",
       "7138       3    41       1  ...                               0   \n",
       "7139       3    41       1  ...                               0   \n",
       "\n",
       "       CouncilArea_Yarra Ranges Shire Council  \\\n",
       "10127                                       0   \n",
       "10128                                       0   \n",
       "6828                                        0   \n",
       "7138                                        0   \n",
       "7139                                        0   \n",
       "\n",
       "       Regionname_Eastern Metropolitan  Regionname_Eastern Victoria  \\\n",
       "10127                                0                            0   \n",
       "10128                                0                            0   \n",
       "6828                                 0                            0   \n",
       "7138                                 0                            0   \n",
       "7139                                 0                            0   \n",
       "\n",
       "       Regionname_Northern Metropolitan  Regionname_Northern Victoria  \\\n",
       "10127                                 0                             0   \n",
       "10128                                 0                             0   \n",
       "6828                                  0                             0   \n",
       "7138                                  0                             0   \n",
       "7139                                  0                             0   \n",
       "\n",
       "       Regionname_South-Eastern Metropolitan  \\\n",
       "10127                                      0   \n",
       "10128                                      0   \n",
       "6828                                       0   \n",
       "7138                                       0   \n",
       "7139                                       0   \n",
       "\n",
       "       Regionname_Southern Metropolitan  Regionname_Western Metropolitan  \\\n",
       "10127                                 1                                0   \n",
       "10128                                 1                                0   \n",
       "6828                                  0                                1   \n",
       "7138                                  0                                1   \n",
       "7139                                  0                                1   \n",
       "\n",
       "       Regionname_Western Victoria  \n",
       "10127                            0  \n",
       "10128                            0  \n",
       "6828                             0  \n",
       "7138                             0  \n",
       "7139                             0  \n",
       "\n",
       "[5 rows x 58 columns]"
      ]
     },
     "execution_count": 56,
     "metadata": {},
     "output_type": "execute_result"
    }
   ],
   "source": [
    "df_Housing.head(5)"
   ]
  },
  {
   "cell_type": "code",
   "execution_count": 57,
   "metadata": {},
   "outputs": [],
   "source": [
    "# Splitting indepnedent and dependent features into X and y\n",
    "from sklearn.model_selection import train_test_split\n",
    "X= df_Housing.drop(['Price'],axis=1)\n",
    "y= df_Housing['Price']"
   ]
  },
  {
   "cell_type": "code",
   "execution_count": 58,
   "metadata": {},
   "outputs": [],
   "source": [
    "# Train test split\n",
    "X_train,X_test,y_train,y_test = train_test_split(X,y,test_size=0.30,random_state=10)"
   ]
  },
  {
   "cell_type": "code",
   "execution_count": 59,
   "metadata": {},
   "outputs": [
    {
     "data": {
      "text/plain": [
       "LinearRegression(copy_X=True, fit_intercept=True, n_jobs=None, normalize=False)"
      ]
     },
     "execution_count": 59,
     "metadata": {},
     "output_type": "execute_result"
    }
   ],
   "source": [
    "# Train the model\n",
    "from sklearn.linear_model import LinearRegression\n",
    "lm = LinearRegression()\n",
    "lm.fit(X_train,y_train)"
   ]
  },
  {
   "cell_type": "code",
   "execution_count": 60,
   "metadata": {},
   "outputs": [
    {
     "data": {
      "text/plain": [
       "array([ 770174.01611125,  825047.29284684,  896280.75011817, ...,\n",
       "        219998.25658668, 1159630.66866025,  652935.94235966])"
      ]
     },
     "execution_count": 60,
     "metadata": {},
     "output_type": "execute_result"
    }
   ],
   "source": [
    "# Predict\n",
    "# Predicting test set results\n",
    "y_pred = lm.predict(X_test)\n",
    "y_pred"
   ]
  },
  {
   "cell_type": "code",
   "execution_count": 61,
   "metadata": {},
   "outputs": [
    {
     "data": {
      "text/plain": [
       "0.6115995899335278"
      ]
     },
     "execution_count": 61,
     "metadata": {},
     "output_type": "execute_result"
    }
   ],
   "source": [
    "lm.score(X_test, y_test)"
   ]
  },
  {
   "cell_type": "markdown",
   "metadata": {},
   "source": [
    "# Linear Regression score is 61.1 %"
   ]
  },
  {
   "cell_type": "code",
   "execution_count": 62,
   "metadata": {},
   "outputs": [
    {
     "name": "stdout",
     "output_type": "stream",
     "text": [
      "MAE: 254937.49935748827\n",
      "MSE: 155145381706.91653\n",
      "RMSE: 393884.98537887493\n"
     ]
    }
   ],
   "source": [
    "# Score It\n",
    "from sklearn import metrics\n",
    "print('MAE:',metrics.mean_absolute_error(y_test,y_pred))\n",
    "print('MSE:',metrics.mean_squared_error(y_test,y_pred))\n",
    "print('RMSE:',np.sqrt(metrics.mean_squared_error(y_test,y_pred)))"
   ]
  },
  {
   "cell_type": "code",
   "execution_count": 63,
   "metadata": {},
   "outputs": [
    {
     "data": {
      "text/plain": [
       "<matplotlib.collections.PathCollection at 0x1a68fa40188>"
      ]
     },
     "execution_count": 63,
     "metadata": {},
     "output_type": "execute_result"
    },
    {
     "data": {
      "image/png": "[encoded data removed]",
      "text/plain": [
       "<Figure size 432x288 with 1 Axes>"
      ]
     },
     "metadata": {
      "needs_background": "light"
     },
     "output_type": "display_data"
    }
   ],
   "source": [
    "# Actual v predictions scatter\n",
    "plt.scatter(y_test, y_pred)"
   ]
  },
  {
   "cell_type": "code",
   "execution_count": 64,
   "metadata": {},
   "outputs": [],
   "source": [
    "from sklearn.model_selection import cross_val_score, train_test_split, GridSearchCV\n",
    "from sklearn.ensemble import RandomForestRegressor, GradientBoostingRegressor\n",
    "from sklearn.linear_model import LinearRegression\n",
    "from sklearn.metrics import mean_squared_error, mean_absolute_error\n",
    "from sklearn.decomposition import PCA"
   ]
  },
  {
   "cell_type": "code",
   "execution_count": 65,
   "metadata": {},
   "outputs": [
    {
     "name": "stdout",
     "output_type": "stream",
     "text": [
      "KNN Score:  0.9989176483799889\n"
     ]
    }
   ],
   "source": [
    "from sklearn.neighbors import KNeighborsRegressor\n",
    "knr = KNeighborsRegressor(weights='distance', n_neighbors=200)\n",
    "knr.fit(X_train, y_train)\n",
    "print(\"KNN Score: \", knr.score(X_train, y_train))"
   ]
  },
  {
   "cell_type": "markdown",
   "metadata": {},
   "source": [
    "# KNN Score is 99.8 %."
   ]
  },
  {
   "cell_type": "code",
   "execution_count": 66,
   "metadata": {},
   "outputs": [],
   "source": [
    "from sklearn.model_selection import train_test_split\n",
    "X_train, X_test, y_train, y_test = train_test_split(X, y, test_size=0.3, random_state= 42)"
   ]
  },
  {
   "cell_type": "code",
   "execution_count": 67,
   "metadata": {},
   "outputs": [
    {
     "data": {
      "text/plain": [
       "DecisionTreeRegressor(ccp_alpha=0.0, criterion='mse', max_depth=None,\n",
       "                      max_features=None, max_leaf_nodes=None,\n",
       "                      min_impurity_decrease=0.0, min_impurity_split=None,\n",
       "                      min_samples_leaf=1, min_samples_split=2,\n",
       "                      min_weight_fraction_leaf=0.0, presort='deprecated',\n",
       "                      random_state=None, splitter='best')"
      ]
     },
     "execution_count": 67,
     "metadata": {},
     "output_type": "execute_result"
    }
   ],
   "source": [
    "#using decision tree model\n",
    "from sklearn.tree import DecisionTreeRegressor as dt\n",
    "model = dt()\n",
    "model.fit(X, y)"
   ]
  },
  {
   "cell_type": "code",
   "execution_count": 68,
   "metadata": {},
   "outputs": [
    {
     "data": {
      "text/plain": [
       "array([ 389000., 1667000.,  505700.,  750000.,  902000.])"
      ]
     },
     "execution_count": 68,
     "metadata": {},
     "output_type": "execute_result"
    }
   ],
   "source": [
    "# create prediction\n",
    "dt_pred = model.predict(X_test)\n",
    "dt_pred[0:5]"
   ]
  },
  {
   "cell_type": "code",
   "execution_count": 69,
   "metadata": {},
   "outputs": [
    {
     "name": "stdout",
     "output_type": "stream",
     "text": [
      "Decision tree regressor:  0.9967943828952076\n"
     ]
    }
   ],
   "source": [
    "# look at the accuracy score\n",
    "print(\"Decision tree regressor: \", model.score(X_test, y_test))"
   ]
  },
  {
   "cell_type": "markdown",
   "metadata": {},
   "source": [
    "# Decission Tree Regressor score is 99.6 %."
   ]
  },
  {
   "cell_type": "code",
   "execution_count": 70,
   "metadata": {},
   "outputs": [
    {
     "data": {
      "text/plain": [
       "DecisionTreeRegressor(ccp_alpha=0.0, criterion='mse', max_depth=None,\n",
       "                      max_features=None, max_leaf_nodes=None,\n",
       "                      min_impurity_decrease=0.0, min_impurity_split=None,\n",
       "                      min_samples_leaf=1, min_samples_split=2,\n",
       "                      min_weight_fraction_leaf=0.0, presort='deprecated',\n",
       "                      random_state=1, splitter='best')"
      ]
     },
     "execution_count": 70,
     "metadata": {},
     "output_type": "execute_result"
    }
   ],
   "source": [
    "from sklearn.tree import DecisionTreeRegressor\n",
    "\n",
    "# Define model. Specify a number for random_state to ensure same results each run\n",
    "melbourne_model = DecisionTreeRegressor(random_state=1)\n",
    "\n",
    "# Fit model\n",
    "melbourne_model.fit(X, y)"
   ]
  },
  {
   "cell_type": "code",
   "execution_count": 71,
   "metadata": {},
   "outputs": [
    {
     "name": "stdout",
     "output_type": "stream",
     "text": [
      "Making predictions for the following 5 houses:\n",
      "       Rooms  Distance  Bathroom  Car  Lattitude  Longtitude  month  Days  \\\n",
      "10127      2      11.2         1    2 -37.827600  145.102300      1     0   \n",
      "10128      3      11.2         1    2 -37.836100  145.100600      1     0   \n",
      "6828       3       6.9         2    2 -37.767200  144.920900      3    41   \n",
      "7138       3      11.2         2    2 -37.735300  144.890700      3    41   \n",
      "7139       3      11.2         1    2 -37.739833  144.885661      3    41   \n",
      "\n",
      "       Type_h  Type_t  ...  CouncilArea_Yarra City Council  \\\n",
      "10127       0       0  ...                               0   \n",
      "10128       1       0  ...                               0   \n",
      "6828        0       0  ...                               0   \n",
      "7138        1       0  ...                               0   \n",
      "7139        1       0  ...                               0   \n",
      "\n",
      "       CouncilArea_Yarra Ranges Shire Council  \\\n",
      "10127                                       0   \n",
      "10128                                       0   \n",
      "6828                                        0   \n",
      "7138                                        0   \n",
      "7139                                        0   \n",
      "\n",
      "       Regionname_Eastern Metropolitan  Regionname_Eastern Victoria  \\\n",
      "10127                                0                            0   \n",
      "10128                                0                            0   \n",
      "6828                                 0                            0   \n",
      "7138                                 0                            0   \n",
      "7139                                 0                            0   \n",
      "\n",
      "       Regionname_Northern Metropolitan  Regionname_Northern Victoria  \\\n",
      "10127                                 0                             0   \n",
      "10128                                 0                             0   \n",
      "6828                                  0                             0   \n",
      "7138                                  0                             0   \n",
      "7139                                  0                             0   \n",
      "\n",
      "       Regionname_South-Eastern Metropolitan  \\\n",
      "10127                                      0   \n",
      "10128                                      0   \n",
      "6828                                       0   \n",
      "7138                                       0   \n",
      "7139                                       0   \n",
      "\n",
      "       Regionname_Southern Metropolitan  Regionname_Western Metropolitan  \\\n",
      "10127                                 1                                0   \n",
      "10128                                 1                                0   \n",
      "6828                                  0                                1   \n",
      "7138                                  0                                1   \n",
      "7139                                  0                                1   \n",
      "\n",
      "       Regionname_Western Victoria  \n",
      "10127                            0  \n",
      "10128                            0  \n",
      "6828                             0  \n",
      "7138                             0  \n",
      "7139                             0  \n",
      "\n",
      "[5 rows x 57 columns]\n",
      "The predictions are\n",
      "[ 813000. 1205000.  670000.  780000.  950000.]\n"
     ]
    }
   ],
   "source": [
    "print(\"Making predictions for the following 5 houses:\")\n",
    "print(X.head())\n",
    "print(\"The predictions are\")\n",
    "print(melbourne_model.predict(X.head()))"
   ]
  },
  {
   "cell_type": "code",
   "execution_count": null,
   "metadata": {},
   "outputs": [],
   "source": []
  }
 ],
 "metadata": {
  "kernelspec": {
   "display_name": "Python 3",
   "language": "python",
   "name": "python3"
  },
  "language_info": {
   "codemirror_mode": {
    "name": "ipython",
    "version": 3
   },
   "file_extension": ".py",
   "mimetype": "text/x-python",
   "name": "python",
   "nbconvert_exporter": "python",
   "pygments_lexer": "ipython3",
   "version": "3.7.6"
  }
 },
 "nbformat": 4,
 "nbformat_minor": 4
}
